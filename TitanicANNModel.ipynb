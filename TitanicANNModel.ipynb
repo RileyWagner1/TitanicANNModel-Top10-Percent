{
  "cells": [
    {
      "cell_type": "markdown",
      "id": "5925db84-3d5c-4a96-8181-109bad890080",
      "metadata": {
        "tags": [],
        "id": "5925db84-3d5c-4a96-8181-109bad890080"
      },
      "source": [
        "# Titanic Dataset Attributes:\n",
        "\n",
        "- Survived: 0 = Not survived, 1 = Survived\n",
        "- Pclass: Ticket class 1 = 1st class, 2 = 2nd class, 3 = 3rd class\n",
        "- Name: Name of passenger\n",
        "- Sex: male, female\n",
        "- Age: Age of passenger\n",
        "- Sibsp: # of siblings / spouses aboard the Titanic\n",
        "- Parch: # of parents / children aboard the Titanic\n",
        "- Ticket: Ticket number\n",
        "- Fare: Passenger fare\n",
        "- Cabin: Cabin number\n",
        "- Embarked: Port of Embarkation C = Cherbourg, Q = Queenstown, S = Southampton"
      ]
    },
    {
      "cell_type": "markdown",
      "id": "70a31ce2-b1a9-4a0f-899d-2eff404525a1",
      "metadata": {
        "jp-MarkdownHeadingCollapsed": true,
        "tags": [],
        "id": "70a31ce2-b1a9-4a0f-899d-2eff404525a1"
      },
      "source": [
        "# Modules Used/Other:"
      ]
    },
    {
      "cell_type": "code",
      "execution_count": null,
      "id": "d6a47db9-0306-4650-a503-5d7f7a74f575",
      "metadata": {
        "id": "d6a47db9-0306-4650-a503-5d7f7a74f575"
      },
      "outputs": [],
      "source": [
        "import pandas as pd\n",
        "import numpy as np\n",
        "from matplotlib import pyplot as plt\n",
        "import seaborn as sns"
      ]
    },
    {
      "cell_type": "code",
      "execution_count": null,
      "id": "1dc9f541-0f08-42ea-9306-05fe7ccb9856",
      "metadata": {
        "id": "1dc9f541-0f08-42ea-9306-05fe7ccb9856"
      },
      "outputs": [],
      "source": [
        "df = pd.read_csv(\"train (2).csv\")"
      ]
    },
    {
      "cell_type": "code",
      "execution_count": null,
      "id": "95e40e8e-1e32-4f18-bb31-a786e4b1ed17",
      "metadata": {
        "id": "95e40e8e-1e32-4f18-bb31-a786e4b1ed17"
      },
      "outputs": [],
      "source": [
        "#save original data\n",
        "\n",
        "original_data = df"
      ]
    },
    {
      "cell_type": "code",
      "execution_count": null,
      "id": "5b3e0a61-9434-4926-bd6c-65a59026cf31",
      "metadata": {
        "id": "5b3e0a61-9434-4926-bd6c-65a59026cf31",
        "outputId": "dec66269-8071-4ecc-d02b-efc87477302e"
      },
      "outputs": [
        {
          "data": {
            "text/plain": [
              "(891, 12)"
            ]
          },
          "execution_count": 4,
          "metadata": {},
          "output_type": "execute_result"
        }
      ],
      "source": [
        "df.shape"
      ]
    },
    {
      "cell_type": "code",
      "execution_count": null,
      "id": "4b8987c7-782c-48ac-9090-614abe2c2a77",
      "metadata": {
        "id": "4b8987c7-782c-48ac-9090-614abe2c2a77",
        "outputId": "011afb0d-d6d1-4a09-9932-95153d347a13"
      },
      "outputs": [
        {
          "data": {
            "text/plain": [
              "PassengerId      0\n",
              "Survived         0\n",
              "Pclass           0\n",
              "Name             0\n",
              "Sex              0\n",
              "Age            177\n",
              "SibSp            0\n",
              "Parch            0\n",
              "Ticket           0\n",
              "Fare             0\n",
              "Cabin          687\n",
              "Embarked         2\n",
              "dtype: int64"
            ]
          },
          "execution_count": 5,
          "metadata": {},
          "output_type": "execute_result"
        }
      ],
      "source": [
        "df.isnull().sum()"
      ]
    },
    {
      "cell_type": "markdown",
      "id": "c7526a0c-4f20-431a-ae21-69acee1e52ae",
      "metadata": {
        "jp-MarkdownHeadingCollapsed": true,
        "tags": [],
        "id": "c7526a0c-4f20-431a-ae21-69acee1e52ae"
      },
      "source": [
        "# We need to deal with the missing values before moving onto ANN Model"
      ]
    },
    {
      "cell_type": "code",
      "execution_count": null,
      "id": "5721a324-e7b6-45b1-b03d-10fe2509e882",
      "metadata": {
        "id": "5721a324-e7b6-45b1-b03d-10fe2509e882",
        "outputId": "c0710e65-78c1-4d11-9e36-57f208659c6d"
      },
      "outputs": [
        {
          "data": {
            "text/html": [
              "<div>\n",
              "<style scoped>\n",
              "    .dataframe tbody tr th:only-of-type {\n",
              "        vertical-align: middle;\n",
              "    }\n",
              "\n",
              "    .dataframe tbody tr th {\n",
              "        vertical-align: top;\n",
              "    }\n",
              "\n",
              "    .dataframe thead th {\n",
              "        text-align: right;\n",
              "    }\n",
              "</style>\n",
              "<table border=\"1\" class=\"dataframe\">\n",
              "  <thead>\n",
              "    <tr style=\"text-align: right;\">\n",
              "      <th></th>\n",
              "      <th>PassengerId</th>\n",
              "      <th>Survived</th>\n",
              "      <th>Pclass</th>\n",
              "      <th>Name</th>\n",
              "      <th>Sex</th>\n",
              "      <th>Age</th>\n",
              "      <th>SibSp</th>\n",
              "      <th>Parch</th>\n",
              "      <th>Ticket</th>\n",
              "      <th>Fare</th>\n",
              "      <th>Cabin</th>\n",
              "      <th>Embarked</th>\n",
              "    </tr>\n",
              "  </thead>\n",
              "  <tbody>\n",
              "    <tr>\n",
              "      <th>0</th>\n",
              "      <td>1</td>\n",
              "      <td>0</td>\n",
              "      <td>3</td>\n",
              "      <td>Braund, Mr. Owen Harris</td>\n",
              "      <td>male</td>\n",
              "      <td>22.0</td>\n",
              "      <td>1</td>\n",
              "      <td>0</td>\n",
              "      <td>A/5 21171</td>\n",
              "      <td>7.2500</td>\n",
              "      <td>NaN</td>\n",
              "      <td>S</td>\n",
              "    </tr>\n",
              "    <tr>\n",
              "      <th>1</th>\n",
              "      <td>2</td>\n",
              "      <td>1</td>\n",
              "      <td>1</td>\n",
              "      <td>Cumings, Mrs. John Bradley (Florence Briggs Th...</td>\n",
              "      <td>female</td>\n",
              "      <td>38.0</td>\n",
              "      <td>1</td>\n",
              "      <td>0</td>\n",
              "      <td>PC 17599</td>\n",
              "      <td>71.2833</td>\n",
              "      <td>C85</td>\n",
              "      <td>C</td>\n",
              "    </tr>\n",
              "    <tr>\n",
              "      <th>2</th>\n",
              "      <td>3</td>\n",
              "      <td>1</td>\n",
              "      <td>3</td>\n",
              "      <td>Heikkinen, Miss. Laina</td>\n",
              "      <td>female</td>\n",
              "      <td>26.0</td>\n",
              "      <td>0</td>\n",
              "      <td>0</td>\n",
              "      <td>STON/O2. 3101282</td>\n",
              "      <td>7.9250</td>\n",
              "      <td>NaN</td>\n",
              "      <td>S</td>\n",
              "    </tr>\n",
              "    <tr>\n",
              "      <th>3</th>\n",
              "      <td>4</td>\n",
              "      <td>1</td>\n",
              "      <td>1</td>\n",
              "      <td>Futrelle, Mrs. Jacques Heath (Lily May Peel)</td>\n",
              "      <td>female</td>\n",
              "      <td>35.0</td>\n",
              "      <td>1</td>\n",
              "      <td>0</td>\n",
              "      <td>113803</td>\n",
              "      <td>53.1000</td>\n",
              "      <td>C123</td>\n",
              "      <td>S</td>\n",
              "    </tr>\n",
              "    <tr>\n",
              "      <th>4</th>\n",
              "      <td>5</td>\n",
              "      <td>0</td>\n",
              "      <td>3</td>\n",
              "      <td>Allen, Mr. William Henry</td>\n",
              "      <td>male</td>\n",
              "      <td>35.0</td>\n",
              "      <td>0</td>\n",
              "      <td>0</td>\n",
              "      <td>373450</td>\n",
              "      <td>8.0500</td>\n",
              "      <td>NaN</td>\n",
              "      <td>S</td>\n",
              "    </tr>\n",
              "  </tbody>\n",
              "</table>\n",
              "</div>"
            ],
            "text/plain": [
              "   PassengerId  Survived  Pclass  \\\n",
              "0            1         0       3   \n",
              "1            2         1       1   \n",
              "2            3         1       3   \n",
              "3            4         1       1   \n",
              "4            5         0       3   \n",
              "\n",
              "                                                Name     Sex   Age  SibSp  \\\n",
              "0                            Braund, Mr. Owen Harris    male  22.0      1   \n",
              "1  Cumings, Mrs. John Bradley (Florence Briggs Th...  female  38.0      1   \n",
              "2                             Heikkinen, Miss. Laina  female  26.0      0   \n",
              "3       Futrelle, Mrs. Jacques Heath (Lily May Peel)  female  35.0      1   \n",
              "4                           Allen, Mr. William Henry    male  35.0      0   \n",
              "\n",
              "   Parch            Ticket     Fare Cabin Embarked  \n",
              "0      0         A/5 21171   7.2500   NaN        S  \n",
              "1      0          PC 17599  71.2833   C85        C  \n",
              "2      0  STON/O2. 3101282   7.9250   NaN        S  \n",
              "3      0            113803  53.1000  C123        S  \n",
              "4      0            373450   8.0500   NaN        S  "
            ]
          },
          "execution_count": 6,
          "metadata": {},
          "output_type": "execute_result"
        }
      ],
      "source": [
        "df.head()"
      ]
    },
    {
      "cell_type": "markdown",
      "id": "d1cb31fa-c089-4a6a-b451-7bd792699a95",
      "metadata": {
        "jp-MarkdownHeadingCollapsed": true,
        "tags": [],
        "id": "d1cb31fa-c089-4a6a-b451-7bd792699a95"
      },
      "source": [
        "## Age Missing Values:"
      ]
    },
    {
      "cell_type": "code",
      "execution_count": null,
      "id": "b4cb3a79-3a27-4c71-a734-c56d1367298c",
      "metadata": {
        "id": "b4cb3a79-3a27-4c71-a734-c56d1367298c",
        "outputId": "a0d6a177-b7d3-4de0-abb6-889469ad2c94"
      },
      "outputs": [
        {
          "data": {
            "text/plain": [
              "29.69911764705882"
            ]
          },
          "execution_count": 7,
          "metadata": {},
          "output_type": "execute_result"
        }
      ],
      "source": [
        "df[\"Age\"].mean()"
      ]
    },
    {
      "cell_type": "code",
      "execution_count": null,
      "id": "eb56abe2-98a3-49eb-8e21-60d7ec161044",
      "metadata": {
        "id": "eb56abe2-98a3-49eb-8e21-60d7ec161044",
        "outputId": "9c5e1bca-8d33-4cf9-fa20-32de42bdc74b"
      },
      "outputs": [
        {
          "data": {
            "text/plain": [
              "28.0"
            ]
          },
          "execution_count": 8,
          "metadata": {},
          "output_type": "execute_result"
        }
      ],
      "source": [
        "df[\"Age\"].median()"
      ]
    },
    {
      "cell_type": "code",
      "execution_count": null,
      "id": "c751eea0-6067-4521-b133-e85292dab03f",
      "metadata": {
        "id": "c751eea0-6067-4521-b133-e85292dab03f",
        "outputId": "e6704c18-2c27-4647-a7d9-74bffd8dca14"
      },
      "outputs": [
        {
          "data": {
            "image/png": "[encoded data removed]",
            "text/plain": [
              "<Figure size 640x480 with 1 Axes>"
            ]
          },
          "metadata": {},
          "output_type": "display_data"
        }
      ],
      "source": [
        "df[\"Age\"].plot(kind=\"hist\")\n",
        "plt.title(\"Age Histogram\")\n",
        "plt.xlabel(\"Age\")\n",
        "plt.ylabel(\"Count\")\n",
        "plt.show()"
      ]
    },
    {
      "cell_type": "code",
      "execution_count": null,
      "id": "2a1afc30-c86b-4c9e-a20b-bd40e4f7622a",
      "metadata": {
        "id": "2a1afc30-c86b-4c9e-a20b-bd40e4f7622a"
      },
      "outputs": [],
      "source": [
        "#Let's use mean imputation to fill in Na values for Age:\n",
        "\n",
        "df[\"Age\"].fillna(df[\"Age\"].mean(), inplace=True)"
      ]
    },
    {
      "cell_type": "markdown",
      "id": "667297a4-bfd0-4971-9dd1-4ba0bb87eb3e",
      "metadata": {
        "jp-MarkdownHeadingCollapsed": true,
        "tags": [],
        "id": "667297a4-bfd0-4971-9dd1-4ba0bb87eb3e"
      },
      "source": [
        "## Embarked Missing Values:"
      ]
    },
    {
      "cell_type": "code",
      "execution_count": null,
      "id": "729ec9ba-fd98-44e8-bc01-40ffed1cf0c2",
      "metadata": {
        "id": "729ec9ba-fd98-44e8-bc01-40ffed1cf0c2",
        "outputId": "549acb4d-8f44-4960-bbc3-2afd239acc67"
      },
      "outputs": [
        {
          "data": {
            "text/plain": [
              "Index(['PassengerId', 'Survived', 'Pclass', 'Name', 'Sex', 'Age', 'SibSp',\n",
              "       'Parch', 'Ticket', 'Fare', 'Cabin', 'Embarked'],\n",
              "      dtype='object')"
            ]
          },
          "execution_count": 11,
          "metadata": {},
          "output_type": "execute_result"
        }
      ],
      "source": [
        "df.columns"
      ]
    },
    {
      "cell_type": "code",
      "execution_count": null,
      "id": "674ec4ab-9836-4839-8992-a84c4e66830e",
      "metadata": {
        "id": "674ec4ab-9836-4839-8992-a84c4e66830e",
        "outputId": "4f67ea60-1711-4a89-cc72-942d465b787f"
      },
      "outputs": [
        {
          "data": {
            "text/plain": [
              "S    644\n",
              "C    168\n",
              "Q     77\n",
              "Name: Embarked, dtype: int64"
            ]
          },
          "execution_count": 12,
          "metadata": {},
          "output_type": "execute_result"
        }
      ],
      "source": [
        "df[\"Embarked\"].value_counts()"
      ]
    },
    {
      "cell_type": "code",
      "execution_count": null,
      "id": "98ef3f2f-c9c1-4ada-ba6d-0252cd974bb7",
      "metadata": {
        "id": "98ef3f2f-c9c1-4ada-ba6d-0252cd974bb7",
        "outputId": "7913090d-585b-4bcc-b0af-ab0bbd0142c6"
      },
      "outputs": [
        {
          "data": {
            "image/png": "[encoded data removed]",
            "text/plain": [
              "<Figure size 640x480 with 1 Axes>"
            ]
          },
          "metadata": {},
          "output_type": "display_data"
        }
      ],
      "source": [
        "df[\"PassengerId\"].groupby(df[\"Embarked\"]).count().plot(kind=\"bar\")\n",
        "plt.title(\"Number of Passengers from Embarked Locations\")\n",
        "plt.xlabel(\"Port Location Embarked\")\n",
        "plt.ylabel(\"Count of Passengers\")\n",
        "plt.show()"
      ]
    },
    {
      "cell_type": "code",
      "execution_count": null,
      "id": "76576c17-a6cb-449c-b9b7-d0198e25df60",
      "metadata": {
        "id": "76576c17-a6cb-449c-b9b7-d0198e25df60"
      },
      "outputs": [],
      "source": [
        "#with S port being the most used by far, let's replace missing Embarked values with this\n",
        "\n",
        "df[\"Embarked\"].fillna(\"S\", inplace=True)"
      ]
    },
    {
      "cell_type": "markdown",
      "id": "271e07c0-6db1-43c2-b3a1-36a53bdd71ac",
      "metadata": {
        "tags": [],
        "id": "271e07c0-6db1-43c2-b3a1-36a53bdd71ac"
      },
      "source": [
        "## Cabin Missing Values:"
      ]
    },
    {
      "cell_type": "code",
      "execution_count": null,
      "id": "a9927934-3c04-4ce0-8aa1-91914bd07404",
      "metadata": {
        "id": "a9927934-3c04-4ce0-8aa1-91914bd07404"
      },
      "outputs": [],
      "source": [
        "#For now, I'm dropping cabin from the df since there are so many missing values:\n",
        "\n",
        "df.drop(\"Cabin\", axis=1, inplace=True)"
      ]
    },
    {
      "cell_type": "code",
      "execution_count": null,
      "id": "36502945-7567-48c7-be08-3c858dfac856",
      "metadata": {
        "id": "36502945-7567-48c7-be08-3c858dfac856"
      },
      "outputs": [],
      "source": [
        "#Let's also drop other columns not needed in df:\n",
        "\n",
        "df.drop(\"Name\", axis=1, inplace=True)"
      ]
    },
    {
      "cell_type": "code",
      "execution_count": null,
      "id": "c077f67f-0080-4eee-b2ab-45865b5705f4",
      "metadata": {
        "id": "c077f67f-0080-4eee-b2ab-45865b5705f4"
      },
      "outputs": [],
      "source": [
        "#Let's also drop other columns not needed in df:\n",
        "\n",
        "df.drop(\"Ticket\", axis=1, inplace=True)"
      ]
    },
    {
      "cell_type": "code",
      "execution_count": null,
      "id": "5e541aad-c64d-4115-aa75-8a25fe7dec94",
      "metadata": {
        "id": "5e541aad-c64d-4115-aa75-8a25fe7dec94",
        "outputId": "cbe270c5-05e3-4682-d7d9-cb93e499ba8c"
      },
      "outputs": [
        {
          "data": {
            "text/plain": [
              "PassengerId    0\n",
              "Survived       0\n",
              "Pclass         0\n",
              "Sex            0\n",
              "Age            0\n",
              "SibSp          0\n",
              "Parch          0\n",
              "Fare           0\n",
              "Embarked       0\n",
              "dtype: int64"
            ]
          },
          "execution_count": 18,
          "metadata": {},
          "output_type": "execute_result"
        }
      ],
      "source": [
        "#Let's check ALL missing values left now: \n",
        "\n",
        "df.isnull().sum()"
      ]
    },
    {
      "cell_type": "code",
      "execution_count": null,
      "id": "09c693e7-06e8-466d-95e5-5282ca4bd5c5",
      "metadata": {
        "id": "09c693e7-06e8-466d-95e5-5282ca4bd5c5",
        "outputId": "e9dc4117-977b-407f-aa20-9198530be0da"
      },
      "outputs": [
        {
          "data": {
            "text/plain": [
              "Index(['PassengerId', 'Survived', 'Pclass', 'Sex', 'Age', 'SibSp', 'Parch',\n",
              "       'Fare', 'Embarked'],\n",
              "      dtype='object')"
            ]
          },
          "execution_count": 19,
          "metadata": {},
          "output_type": "execute_result"
        }
      ],
      "source": [
        "#Let's check to make sure our is the way we want it\n",
        "\n",
        "df.columns"
      ]
    },
    {
      "cell_type": "markdown",
      "id": "0753ee36-83e4-4ac9-99c9-313f6b7aa77a",
      "metadata": {
        "jp-MarkdownHeadingCollapsed": true,
        "tags": [],
        "id": "0753ee36-83e4-4ac9-99c9-313f6b7aa77a"
      },
      "source": [
        "# Convert categorical variables into dummy variables:"
      ]
    },
    {
      "cell_type": "code",
      "execution_count": null,
      "id": "ffa71bfc-5d33-45ae-8767-7631c3a46157",
      "metadata": {
        "id": "ffa71bfc-5d33-45ae-8767-7631c3a46157"
      },
      "outputs": [],
      "source": [
        "df[\"Pclass\"] = df[\"Pclass\"].astype(\"category\")\n",
        "df1 = pd.get_dummies(df)"
      ]
    },
    {
      "cell_type": "code",
      "execution_count": null,
      "id": "99d3c6bd-6cbc-4aeb-9d79-52d129b1e192",
      "metadata": {
        "id": "99d3c6bd-6cbc-4aeb-9d79-52d129b1e192",
        "outputId": "22527283-f714-4456-f123-8c0de29073e3"
      },
      "outputs": [
        {
          "data": {
            "text/html": [
              "<div>\n",
              "<style scoped>\n",
              "    .dataframe tbody tr th:only-of-type {\n",
              "        vertical-align: middle;\n",
              "    }\n",
              "\n",
              "    .dataframe tbody tr th {\n",
              "        vertical-align: top;\n",
              "    }\n",
              "\n",
              "    .dataframe thead th {\n",
              "        text-align: right;\n",
              "    }\n",
              "</style>\n",
              "<table border=\"1\" class=\"dataframe\">\n",
              "  <thead>\n",
              "    <tr style=\"text-align: right;\">\n",
              "      <th></th>\n",
              "      <th>PassengerId</th>\n",
              "      <th>Survived</th>\n",
              "      <th>Age</th>\n",
              "      <th>SibSp</th>\n",
              "      <th>Parch</th>\n",
              "      <th>Fare</th>\n",
              "      <th>Pclass_1</th>\n",
              "      <th>Pclass_2</th>\n",
              "      <th>Pclass_3</th>\n",
              "      <th>Sex_female</th>\n",
              "      <th>Sex_male</th>\n",
              "      <th>Embarked_C</th>\n",
              "      <th>Embarked_Q</th>\n",
              "      <th>Embarked_S</th>\n",
              "    </tr>\n",
              "  </thead>\n",
              "  <tbody>\n",
              "    <tr>\n",
              "      <th>0</th>\n",
              "      <td>1</td>\n",
              "      <td>0</td>\n",
              "      <td>22.0</td>\n",
              "      <td>1</td>\n",
              "      <td>0</td>\n",
              "      <td>7.2500</td>\n",
              "      <td>0</td>\n",
              "      <td>0</td>\n",
              "      <td>1</td>\n",
              "      <td>0</td>\n",
              "      <td>1</td>\n",
              "      <td>0</td>\n",
              "      <td>0</td>\n",
              "      <td>1</td>\n",
              "    </tr>\n",
              "    <tr>\n",
              "      <th>1</th>\n",
              "      <td>2</td>\n",
              "      <td>1</td>\n",
              "      <td>38.0</td>\n",
              "      <td>1</td>\n",
              "      <td>0</td>\n",
              "      <td>71.2833</td>\n",
              "      <td>1</td>\n",
              "      <td>0</td>\n",
              "      <td>0</td>\n",
              "      <td>1</td>\n",
              "      <td>0</td>\n",
              "      <td>1</td>\n",
              "      <td>0</td>\n",
              "      <td>0</td>\n",
              "    </tr>\n",
              "    <tr>\n",
              "      <th>2</th>\n",
              "      <td>3</td>\n",
              "      <td>1</td>\n",
              "      <td>26.0</td>\n",
              "      <td>0</td>\n",
              "      <td>0</td>\n",
              "      <td>7.9250</td>\n",
              "      <td>0</td>\n",
              "      <td>0</td>\n",
              "      <td>1</td>\n",
              "      <td>1</td>\n",
              "      <td>0</td>\n",
              "      <td>0</td>\n",
              "      <td>0</td>\n",
              "      <td>1</td>\n",
              "    </tr>\n",
              "    <tr>\n",
              "      <th>3</th>\n",
              "      <td>4</td>\n",
              "      <td>1</td>\n",
              "      <td>35.0</td>\n",
              "      <td>1</td>\n",
              "      <td>0</td>\n",
              "      <td>53.1000</td>\n",
              "      <td>1</td>\n",
              "      <td>0</td>\n",
              "      <td>0</td>\n",
              "      <td>1</td>\n",
              "      <td>0</td>\n",
              "      <td>0</td>\n",
              "      <td>0</td>\n",
              "      <td>1</td>\n",
              "    </tr>\n",
              "    <tr>\n",
              "      <th>4</th>\n",
              "      <td>5</td>\n",
              "      <td>0</td>\n",
              "      <td>35.0</td>\n",
              "      <td>0</td>\n",
              "      <td>0</td>\n",
              "      <td>8.0500</td>\n",
              "      <td>0</td>\n",
              "      <td>0</td>\n",
              "      <td>1</td>\n",
              "      <td>0</td>\n",
              "      <td>1</td>\n",
              "      <td>0</td>\n",
              "      <td>0</td>\n",
              "      <td>1</td>\n",
              "    </tr>\n",
              "  </tbody>\n",
              "</table>\n",
              "</div>"
            ],
            "text/plain": [
              "   PassengerId  Survived   Age  SibSp  Parch     Fare  Pclass_1  Pclass_2  \\\n",
              "0            1         0  22.0      1      0   7.2500         0         0   \n",
              "1            2         1  38.0      1      0  71.2833         1         0   \n",
              "2            3         1  26.0      0      0   7.9250         0         0   \n",
              "3            4         1  35.0      1      0  53.1000         1         0   \n",
              "4            5         0  35.0      0      0   8.0500         0         0   \n",
              "\n",
              "   Pclass_3  Sex_female  Sex_male  Embarked_C  Embarked_Q  Embarked_S  \n",
              "0         1           0         1           0           0           1  \n",
              "1         0           1         0           1           0           0  \n",
              "2         1           1         0           0           0           1  \n",
              "3         0           1         0           0           0           1  \n",
              "4         1           0         1           0           0           1  "
            ]
          },
          "execution_count": 21,
          "metadata": {},
          "output_type": "execute_result"
        }
      ],
      "source": [
        "df1.head()"
      ]
    },
    {
      "cell_type": "markdown",
      "id": "57f74e37-74cf-4c5a-bae3-4a5d3da7abd6",
      "metadata": {
        "jp-MarkdownHeadingCollapsed": true,
        "tags": [],
        "id": "57f74e37-74cf-4c5a-bae3-4a5d3da7abd6"
      },
      "source": [
        "# Scale Continuous Features:"
      ]
    },
    {
      "cell_type": "code",
      "execution_count": null,
      "id": "66cbd3ba-70d6-4625-908a-bba95f18c0ce",
      "metadata": {
        "id": "66cbd3ba-70d6-4625-908a-bba95f18c0ce",
        "outputId": "f66fedd0-be3d-4c75-9adf-20428c7648be"
      },
      "outputs": [
        {
          "data": {
            "text/html": [
              "<div>\n",
              "<style scoped>\n",
              "    .dataframe tbody tr th:only-of-type {\n",
              "        vertical-align: middle;\n",
              "    }\n",
              "\n",
              "    .dataframe tbody tr th {\n",
              "        vertical-align: top;\n",
              "    }\n",
              "\n",
              "    .dataframe thead th {\n",
              "        text-align: right;\n",
              "    }\n",
              "</style>\n",
              "<table border=\"1\" class=\"dataframe\">\n",
              "  <thead>\n",
              "    <tr style=\"text-align: right;\">\n",
              "      <th></th>\n",
              "      <th>PassengerId</th>\n",
              "      <th>Survived</th>\n",
              "      <th>Age</th>\n",
              "      <th>SibSp</th>\n",
              "      <th>Parch</th>\n",
              "      <th>Fare</th>\n",
              "      <th>Pclass_1</th>\n",
              "      <th>Pclass_2</th>\n",
              "      <th>Pclass_3</th>\n",
              "      <th>Sex_female</th>\n",
              "      <th>Sex_male</th>\n",
              "      <th>Embarked_C</th>\n",
              "      <th>Embarked_Q</th>\n",
              "      <th>Embarked_S</th>\n",
              "    </tr>\n",
              "  </thead>\n",
              "  <tbody>\n",
              "    <tr>\n",
              "      <th>0</th>\n",
              "      <td>1</td>\n",
              "      <td>0</td>\n",
              "      <td>22.0</td>\n",
              "      <td>1</td>\n",
              "      <td>0</td>\n",
              "      <td>7.2500</td>\n",
              "      <td>0</td>\n",
              "      <td>0</td>\n",
              "      <td>1</td>\n",
              "      <td>0</td>\n",
              "      <td>1</td>\n",
              "      <td>0</td>\n",
              "      <td>0</td>\n",
              "      <td>1</td>\n",
              "    </tr>\n",
              "    <tr>\n",
              "      <th>1</th>\n",
              "      <td>2</td>\n",
              "      <td>1</td>\n",
              "      <td>38.0</td>\n",
              "      <td>1</td>\n",
              "      <td>0</td>\n",
              "      <td>71.2833</td>\n",
              "      <td>1</td>\n",
              "      <td>0</td>\n",
              "      <td>0</td>\n",
              "      <td>1</td>\n",
              "      <td>0</td>\n",
              "      <td>1</td>\n",
              "      <td>0</td>\n",
              "      <td>0</td>\n",
              "    </tr>\n",
              "    <tr>\n",
              "      <th>2</th>\n",
              "      <td>3</td>\n",
              "      <td>1</td>\n",
              "      <td>26.0</td>\n",
              "      <td>0</td>\n",
              "      <td>0</td>\n",
              "      <td>7.9250</td>\n",
              "      <td>0</td>\n",
              "      <td>0</td>\n",
              "      <td>1</td>\n",
              "      <td>1</td>\n",
              "      <td>0</td>\n",
              "      <td>0</td>\n",
              "      <td>0</td>\n",
              "      <td>1</td>\n",
              "    </tr>\n",
              "    <tr>\n",
              "      <th>3</th>\n",
              "      <td>4</td>\n",
              "      <td>1</td>\n",
              "      <td>35.0</td>\n",
              "      <td>1</td>\n",
              "      <td>0</td>\n",
              "      <td>53.1000</td>\n",
              "      <td>1</td>\n",
              "      <td>0</td>\n",
              "      <td>0</td>\n",
              "      <td>1</td>\n",
              "      <td>0</td>\n",
              "      <td>0</td>\n",
              "      <td>0</td>\n",
              "      <td>1</td>\n",
              "    </tr>\n",
              "    <tr>\n",
              "      <th>4</th>\n",
              "      <td>5</td>\n",
              "      <td>0</td>\n",
              "      <td>35.0</td>\n",
              "      <td>0</td>\n",
              "      <td>0</td>\n",
              "      <td>8.0500</td>\n",
              "      <td>0</td>\n",
              "      <td>0</td>\n",
              "      <td>1</td>\n",
              "      <td>0</td>\n",
              "      <td>1</td>\n",
              "      <td>0</td>\n",
              "      <td>0</td>\n",
              "      <td>1</td>\n",
              "    </tr>\n",
              "  </tbody>\n",
              "</table>\n",
              "</div>"
            ],
            "text/plain": [
              "   PassengerId  Survived   Age  SibSp  Parch     Fare  Pclass_1  Pclass_2  \\\n",
              "0            1         0  22.0      1      0   7.2500         0         0   \n",
              "1            2         1  38.0      1      0  71.2833         1         0   \n",
              "2            3         1  26.0      0      0   7.9250         0         0   \n",
              "3            4         1  35.0      1      0  53.1000         1         0   \n",
              "4            5         0  35.0      0      0   8.0500         0         0   \n",
              "\n",
              "   Pclass_3  Sex_female  Sex_male  Embarked_C  Embarked_Q  Embarked_S  \n",
              "0         1           0         1           0           0           1  \n",
              "1         0           1         0           1           0           0  \n",
              "2         1           1         0           0           0           1  \n",
              "3         0           1         0           0           0           1  \n",
              "4         1           0         1           0           0           1  "
            ]
          },
          "execution_count": 22,
          "metadata": {},
          "output_type": "execute_result"
        }
      ],
      "source": [
        "df1.head()"
      ]
    },
    {
      "cell_type": "markdown",
      "id": "3cb7e250-3e7a-4182-af4b-d5f1e02a1c27",
      "metadata": {
        "id": "3cb7e250-3e7a-4182-af4b-d5f1e02a1c27"
      },
      "source": [
        "- Survived: 0 = Not survived, 1 = Survived\n",
        "- Pclass: Ticket class 1 = 1st class, 2 = 2nd class, 3 = 3rd class\n",
        "- Name: Name of passenger\n",
        "- Sex: male, female\n",
        "- Age: Age of passenger\n",
        "- Sibsp: # of siblings / spouses aboard the Titanic\n",
        "- Parch: # of parents / children aboard the Titanic\n",
        "- Ticket: Ticket number\n",
        "- Fare: Passenger fare\n",
        "- Cabin: Cabin number\n",
        "- Embarked: Port of Embarkation C = Cherbourg, Q = Queenstown, S = Southampton"
      ]
    },
    {
      "cell_type": "code",
      "execution_count": null,
      "id": "cc8d6b96-6ab0-4e5e-9115-fc76677b1967",
      "metadata": {
        "id": "cc8d6b96-6ab0-4e5e-9115-fc76677b1967"
      },
      "outputs": [],
      "source": [
        "#We must only scale continuous features:\n",
        "\n",
        "#keep PassengerID untouched --> we'll be using this to check model's accuracy when submitting to Kaggle\n",
        "\n",
        "temp = df1[[\"Age\", \"SibSp\", \"Parch\", \"Fare\"]]"
      ]
    },
    {
      "cell_type": "code",
      "execution_count": null,
      "id": "4e8e8124-dbec-44b6-addb-c34c4f58883d",
      "metadata": {
        "id": "4e8e8124-dbec-44b6-addb-c34c4f58883d"
      },
      "outputs": [],
      "source": [
        "from sklearn.preprocessing import StandardScaler\n",
        "scaler = StandardScaler()\n",
        "scaled_array = scaler.fit_transform(temp)"
      ]
    },
    {
      "cell_type": "code",
      "execution_count": null,
      "id": "b9122834-2fe3-49af-90de-2e84fad47409",
      "metadata": {
        "id": "b9122834-2fe3-49af-90de-2e84fad47409",
        "outputId": "5c0187dd-25d4-4747-f2c2-cddabab63ae2"
      },
      "outputs": [
        {
          "data": {
            "text/html": [
              "<div>\n",
              "<style scoped>\n",
              "    .dataframe tbody tr th:only-of-type {\n",
              "        vertical-align: middle;\n",
              "    }\n",
              "\n",
              "    .dataframe tbody tr th {\n",
              "        vertical-align: top;\n",
              "    }\n",
              "\n",
              "    .dataframe thead th {\n",
              "        text-align: right;\n",
              "    }\n",
              "</style>\n",
              "<table border=\"1\" class=\"dataframe\">\n",
              "  <thead>\n",
              "    <tr style=\"text-align: right;\">\n",
              "      <th></th>\n",
              "      <th>count</th>\n",
              "      <th>mean</th>\n",
              "      <th>std</th>\n",
              "      <th>min</th>\n",
              "      <th>25%</th>\n",
              "      <th>50%</th>\n",
              "      <th>75%</th>\n",
              "      <th>max</th>\n",
              "    </tr>\n",
              "  </thead>\n",
              "  <tbody>\n",
              "    <tr>\n",
              "      <th>Age</th>\n",
              "      <td>891.0</td>\n",
              "      <td>2.562796e-16</td>\n",
              "      <td>1.000562</td>\n",
              "      <td>-2.253155</td>\n",
              "      <td>-0.592481</td>\n",
              "      <td>0.000000</td>\n",
              "      <td>0.407926</td>\n",
              "      <td>3.870872</td>\n",
              "    </tr>\n",
              "    <tr>\n",
              "      <th>SibSp</th>\n",
              "      <td>891.0</td>\n",
              "      <td>3.456519e-16</td>\n",
              "      <td>1.000562</td>\n",
              "      <td>-0.474545</td>\n",
              "      <td>-0.474545</td>\n",
              "      <td>-0.474545</td>\n",
              "      <td>0.432793</td>\n",
              "      <td>6.784163</td>\n",
              "    </tr>\n",
              "    <tr>\n",
              "      <th>Parch</th>\n",
              "      <td>891.0</td>\n",
              "      <td>6.716164e-17</td>\n",
              "      <td>1.000562</td>\n",
              "      <td>-0.473674</td>\n",
              "      <td>-0.473674</td>\n",
              "      <td>-0.473674</td>\n",
              "      <td>-0.473674</td>\n",
              "      <td>6.974147</td>\n",
              "    </tr>\n",
              "    <tr>\n",
              "      <th>Fare</th>\n",
              "      <td>891.0</td>\n",
              "      <td>-4.373606e-17</td>\n",
              "      <td>1.000562</td>\n",
              "      <td>-0.648422</td>\n",
              "      <td>-0.489148</td>\n",
              "      <td>-0.357391</td>\n",
              "      <td>-0.024246</td>\n",
              "      <td>9.667167</td>\n",
              "    </tr>\n",
              "  </tbody>\n",
              "</table>\n",
              "</div>"
            ],
            "text/plain": [
              "       count          mean       std       min       25%       50%       75%  \\\n",
              "Age    891.0  2.562796e-16  1.000562 -2.253155 -0.592481  0.000000  0.407926   \n",
              "SibSp  891.0  3.456519e-16  1.000562 -0.474545 -0.474545 -0.474545  0.432793   \n",
              "Parch  891.0  6.716164e-17  1.000562 -0.473674 -0.473674 -0.473674 -0.473674   \n",
              "Fare   891.0 -4.373606e-17  1.000562 -0.648422 -0.489148 -0.357391 -0.024246   \n",
              "\n",
              "            max  \n",
              "Age    3.870872  \n",
              "SibSp  6.784163  \n",
              "Parch  6.974147  \n",
              "Fare   9.667167  "
            ]
          },
          "execution_count": 25,
          "metadata": {},
          "output_type": "execute_result"
        }
      ],
      "source": [
        "scaled_df = pd.DataFrame(scaled_array, columns=[\"Age\", \"SibSp\", \"Parch\", \"Fare\"])\n",
        "scaled_df.describe().transpose()"
      ]
    },
    {
      "cell_type": "code",
      "execution_count": null,
      "id": "03ef66a2-3519-4a49-8524-bd879feedf80",
      "metadata": {
        "id": "03ef66a2-3519-4a49-8524-bd879feedf80"
      },
      "outputs": [],
      "source": [
        "#combining both df's back together into:\n",
        "\n",
        "scaled_df[['Survived', 'Pclass_1', 'Pclass_2',\n",
        "       'Pclass_3', 'Sex_female', 'Sex_male', 'Embarked_C', 'Embarked_Q',\n",
        "       'Embarked_S']] = df1[['Survived', 'Pclass_1', 'Pclass_2',\n",
        "       'Pclass_3', 'Sex_female', 'Sex_male', 'Embarked_C', 'Embarked_Q',\n",
        "       'Embarked_S']]"
      ]
    },
    {
      "cell_type": "code",
      "execution_count": null,
      "id": "a8a835a1-31c1-422f-979b-bbaf629d568c",
      "metadata": {
        "id": "a8a835a1-31c1-422f-979b-bbaf629d568c",
        "outputId": "5f35a7b0-238d-49af-bb33-d38e1b80ec7b"
      },
      "outputs": [
        {
          "data": {
            "text/html": [
              "<div>\n",
              "<style scoped>\n",
              "    .dataframe tbody tr th:only-of-type {\n",
              "        vertical-align: middle;\n",
              "    }\n",
              "\n",
              "    .dataframe tbody tr th {\n",
              "        vertical-align: top;\n",
              "    }\n",
              "\n",
              "    .dataframe thead th {\n",
              "        text-align: right;\n",
              "    }\n",
              "</style>\n",
              "<table border=\"1\" class=\"dataframe\">\n",
              "  <thead>\n",
              "    <tr style=\"text-align: right;\">\n",
              "      <th></th>\n",
              "      <th>Age</th>\n",
              "      <th>SibSp</th>\n",
              "      <th>Parch</th>\n",
              "      <th>Fare</th>\n",
              "      <th>Survived</th>\n",
              "      <th>Pclass_1</th>\n",
              "      <th>Pclass_2</th>\n",
              "      <th>Pclass_3</th>\n",
              "      <th>Sex_female</th>\n",
              "      <th>Sex_male</th>\n",
              "      <th>Embarked_C</th>\n",
              "      <th>Embarked_Q</th>\n",
              "      <th>Embarked_S</th>\n",
              "    </tr>\n",
              "  </thead>\n",
              "  <tbody>\n",
              "    <tr>\n",
              "      <th>0</th>\n",
              "      <td>-0.592481</td>\n",
              "      <td>0.432793</td>\n",
              "      <td>-0.473674</td>\n",
              "      <td>-0.502445</td>\n",
              "      <td>0</td>\n",
              "      <td>0</td>\n",
              "      <td>0</td>\n",
              "      <td>1</td>\n",
              "      <td>0</td>\n",
              "      <td>1</td>\n",
              "      <td>0</td>\n",
              "      <td>0</td>\n",
              "      <td>1</td>\n",
              "    </tr>\n",
              "    <tr>\n",
              "      <th>1</th>\n",
              "      <td>0.638789</td>\n",
              "      <td>0.432793</td>\n",
              "      <td>-0.473674</td>\n",
              "      <td>0.786845</td>\n",
              "      <td>1</td>\n",
              "      <td>1</td>\n",
              "      <td>0</td>\n",
              "      <td>0</td>\n",
              "      <td>1</td>\n",
              "      <td>0</td>\n",
              "      <td>1</td>\n",
              "      <td>0</td>\n",
              "      <td>0</td>\n",
              "    </tr>\n",
              "    <tr>\n",
              "      <th>2</th>\n",
              "      <td>-0.284663</td>\n",
              "      <td>-0.474545</td>\n",
              "      <td>-0.473674</td>\n",
              "      <td>-0.488854</td>\n",
              "      <td>1</td>\n",
              "      <td>0</td>\n",
              "      <td>0</td>\n",
              "      <td>1</td>\n",
              "      <td>1</td>\n",
              "      <td>0</td>\n",
              "      <td>0</td>\n",
              "      <td>0</td>\n",
              "      <td>1</td>\n",
              "    </tr>\n",
              "    <tr>\n",
              "      <th>3</th>\n",
              "      <td>0.407926</td>\n",
              "      <td>0.432793</td>\n",
              "      <td>-0.473674</td>\n",
              "      <td>0.420730</td>\n",
              "      <td>1</td>\n",
              "      <td>1</td>\n",
              "      <td>0</td>\n",
              "      <td>0</td>\n",
              "      <td>1</td>\n",
              "      <td>0</td>\n",
              "      <td>0</td>\n",
              "      <td>0</td>\n",
              "      <td>1</td>\n",
              "    </tr>\n",
              "    <tr>\n",
              "      <th>4</th>\n",
              "      <td>0.407926</td>\n",
              "      <td>-0.474545</td>\n",
              "      <td>-0.473674</td>\n",
              "      <td>-0.486337</td>\n",
              "      <td>0</td>\n",
              "      <td>0</td>\n",
              "      <td>0</td>\n",
              "      <td>1</td>\n",
              "      <td>0</td>\n",
              "      <td>1</td>\n",
              "      <td>0</td>\n",
              "      <td>0</td>\n",
              "      <td>1</td>\n",
              "    </tr>\n",
              "  </tbody>\n",
              "</table>\n",
              "</div>"
            ],
            "text/plain": [
              "        Age     SibSp     Parch      Fare  Survived  Pclass_1  Pclass_2  \\\n",
              "0 -0.592481  0.432793 -0.473674 -0.502445         0         0         0   \n",
              "1  0.638789  0.432793 -0.473674  0.786845         1         1         0   \n",
              "2 -0.284663 -0.474545 -0.473674 -0.488854         1         0         0   \n",
              "3  0.407926  0.432793 -0.473674  0.420730         1         1         0   \n",
              "4  0.407926 -0.474545 -0.473674 -0.486337         0         0         0   \n",
              "\n",
              "   Pclass_3  Sex_female  Sex_male  Embarked_C  Embarked_Q  Embarked_S  \n",
              "0         1           0         1           0           0           1  \n",
              "1         0           1         0           1           0           0  \n",
              "2         1           1         0           0           0           1  \n",
              "3         0           1         0           0           0           1  \n",
              "4         1           0         1           0           0           1  "
            ]
          },
          "execution_count": 27,
          "metadata": {},
          "output_type": "execute_result"
        }
      ],
      "source": [
        "scaled_df.head()"
      ]
    },
    {
      "cell_type": "markdown",
      "id": "b30bfc57-b487-457e-8f69-d1f0f645a8f8",
      "metadata": {
        "jp-MarkdownHeadingCollapsed": true,
        "tags": [],
        "id": "b30bfc57-b487-457e-8f69-d1f0f645a8f8"
      },
      "source": [
        "# Creating ANN Model:"
      ]
    },
    {
      "cell_type": "code",
      "execution_count": null,
      "id": "5efe6e1d-cc46-41cd-82b3-e8aeb9997793",
      "metadata": {
        "id": "5efe6e1d-cc46-41cd-82b3-e8aeb9997793"
      },
      "outputs": [],
      "source": [
        "#Since we don't have to worry about multicollinearity w/ANN Models, we can use all features:\n",
        "\n",
        "X = scaled_df[['Age', 'SibSp', 'Parch', 'Fare', 'Pclass_1', 'Pclass_2',\n",
        "       'Pclass_3', 'Sex_female', 'Sex_male', 'Embarked_C', 'Embarked_Q',\n",
        "       'Embarked_S']].copy()\n",
        "\n",
        "Y = scaled_df[[\"Survived\"]].copy()"
      ]
    },
    {
      "cell_type": "code",
      "execution_count": null,
      "id": "99ce615e-52dd-4361-aab6-1bea417a74ad",
      "metadata": {
        "id": "99ce615e-52dd-4361-aab6-1bea417a74ad"
      },
      "outputs": [],
      "source": [
        "import keras\n",
        "from keras.models import Sequential\n",
        "from keras.layers import Dense, Dropout\n",
        "from tensorflow.keras.layers import BatchNormalization "
      ]
    },
    {
      "cell_type": "code",
      "execution_count": null,
      "id": "690965e6-33ed-4a02-9bfd-5e34d8f4b866",
      "metadata": {
        "id": "690965e6-33ed-4a02-9bfd-5e34d8f4b866",
        "outputId": "7faa6526-9acc-4e2d-e47e-cb8cdcbcba45"
      },
      "outputs": [
        {
          "name": "stdout",
          "output_type": "stream",
          "text": [
            "Model: \"sequential\"\n",
            "_________________________________________________________________\n",
            " Layer (type)                Output Shape              Param #   \n",
            "=================================================================\n",
            " first_hidden (Dense)        (None, 9)                 117       \n",
            "                                                                 \n",
            " dropout (Dropout)           (None, 9)                 0         \n",
            "                                                                 \n",
            " batch_normalization (BatchN  (None, 9)                36        \n",
            " ormalization)                                                   \n",
            "                                                                 \n",
            " output (Dense)              (None, 1)                 10        \n",
            "                                                                 \n",
            "=================================================================\n",
            "Total params: 163\n",
            "Trainable params: 145\n",
            "Non-trainable params: 18\n",
            "_________________________________________________________________\n"
          ]
        }
      ],
      "source": [
        "#Model Architecture:\n",
        "\n",
        "model = Sequential() #1\n",
        "\n",
        "# input_dim refers to number of nodes in the input layer.  (number of features used in model x)\n",
        "# Number after Dense refers to number of neurons/nodes in the hidden layer\n",
        "# input and hidden layers.  Use relu, which is common for hidden layers\n",
        "\n",
        "#8 represents the number of neurons in the first hidden layer: professor chose this # using rule-of-thumbs from previous notebook\n",
        "\n",
        "model.add(Dense(9, activation='relu', input_dim=X.shape[1], name='first_hidden')) \n",
        "model.add(Dropout(0.2))\n",
        "model.add(BatchNormalization())  # Re-centers the results to ensure they dont drift\n",
        "\n",
        "# # second hidden layer.  Use relu\n",
        "# model.add(Dense(9, activation = 'relu', name='second_hidden'))\n",
        "# model.add(Dropout(0.2))\n",
        "# model.add(BatchNormalization())  # Re-centers the results to ensure they dont drift\n",
        "\n",
        "# #third hidden layer.  Use relu\n",
        "# model.add(Dense(3, activation = 'relu', name='third_hidden'))\n",
        "# model.add(Dropout(0.2))\n",
        "# model.add(BatchNormalization()) # Re-centers the results to insure they dont drift\n",
        "\n",
        "\n",
        "# output layer: use sigmoid since outputting a probability. Only one node\n",
        "model.add(Dense(1, activation='sigmoid', name='output'))\n",
        "model.summary()"
      ]
    },
    {
      "cell_type": "code",
      "execution_count": null,
      "id": "202ea955-b2a4-4bc7-adc4-1b0ebe78a485",
      "metadata": {
        "id": "202ea955-b2a4-4bc7-adc4-1b0ebe78a485"
      },
      "outputs": [],
      "source": [
        "# Compile the model....\n",
        "model.compile(loss='binary_crossentropy', optimizer='adam', metrics=['accuracy'])"
      ]
    },
    {
      "cell_type": "code",
      "execution_count": null,
      "id": "277e8242-b9d0-4a94-aa16-47b5f2cfedde",
      "metadata": {
        "id": "277e8242-b9d0-4a94-aa16-47b5f2cfedde"
      },
      "outputs": [],
      "source": [
        "history = model.fit(X, Y, batch_size = 32, validation_data=(X,Y), epochs = 75, verbose=0)"
      ]
    },
    {
      "cell_type": "code",
      "execution_count": null,
      "id": "e61b55a6-3f18-4229-98ed-4f0079a112c8",
      "metadata": {
        "id": "e61b55a6-3f18-4229-98ed-4f0079a112c8",
        "outputId": "c23c582f-7516-46f4-a08c-b994759546f6"
      },
      "outputs": [
        {
          "name": "stdout",
          "output_type": "stream",
          "text": [
            "28/28 [==============================] - 0s 1ms/step - loss: 0.4007 - accuracy: 0.8305\n",
            "The model loss is 0.40, its accuracy is 0.83. \n"
          ]
        }
      ],
      "source": [
        "loss,accuracy= model.evaluate(X,Y)\n",
        "print(\"The model loss is {:.2f}, its accuracy is {:.2f}. \".format(loss,accuracy))"
      ]
    },
    {
      "cell_type": "code",
      "execution_count": null,
      "id": "e76942a0-b845-4e38-b639-b207c73cafd4",
      "metadata": {
        "id": "e76942a0-b845-4e38-b639-b207c73cafd4"
      },
      "outputs": [],
      "source": [
        "#I don't like having the data pre-split like this. I can't account for what train/test looks like to assess overfitting as much.\n",
        "#I could have split given train data into train/test and maybe this would have been better for model fine-tuning,\n",
        "#but I also would have loss data used to predict final test data. "
      ]
    },
    {
      "cell_type": "markdown",
      "id": "f9fa01a1-75e7-4dfd-be3f-7f0c13a3373a",
      "metadata": {
        "jp-MarkdownHeadingCollapsed": true,
        "tags": [],
        "id": "f9fa01a1-75e7-4dfd-be3f-7f0c13a3373a"
      },
      "source": [
        "# Training Model Confusion Matrix:"
      ]
    },
    {
      "cell_type": "code",
      "execution_count": null,
      "id": "9e74a2d4-c208-4f7b-848b-15924c6e4ce9",
      "metadata": {
        "id": "9e74a2d4-c208-4f7b-848b-15924c6e4ce9",
        "outputId": "2e1f4cb9-73a7-49f6-b578-72da208d9b92"
      },
      "outputs": [
        {
          "name": "stdout",
          "output_type": "stream",
          "text": [
            "28/28 [==============================] - 0s 1ms/step\n"
          ]
        }
      ],
      "source": [
        "#Let's create a confusion matrix:\n",
        "\n",
        "predictions_train = (model.predict(X) > 0.5).astype(\"int32\")"
      ]
    },
    {
      "cell_type": "code",
      "execution_count": null,
      "id": "0fb48239-8e7b-4f72-a997-0de89a1c8a03",
      "metadata": {
        "id": "0fb48239-8e7b-4f72-a997-0de89a1c8a03",
        "outputId": "484fd329-8490-4785-e91b-28af75bde5bd"
      },
      "outputs": [
        {
          "data": {
            "text/plain": [
              "array([[522,  27],\n",
              "       [124, 218]], dtype=int64)"
            ]
          },
          "execution_count": 36,
          "metadata": {},
          "output_type": "execute_result"
        }
      ],
      "source": [
        "from sklearn.metrics import confusion_matrix\n",
        "confusion_matrix(Y,predictions_train)"
      ]
    },
    {
      "cell_type": "markdown",
      "id": "adb6c9bc-fd9e-47e4-bbbe-0d77bb975fb5",
      "metadata": {
        "jp-MarkdownHeadingCollapsed": true,
        "tags": [],
        "id": "adb6c9bc-fd9e-47e4-bbbe-0d77bb975fb5"
      },
      "source": [
        "# Training Model ANN Settings Visualized:"
      ]
    },
    {
      "cell_type": "code",
      "execution_count": null,
      "id": "0a39c75d-1327-4e6b-81d1-ed881b659fc2",
      "metadata": {
        "id": "0a39c75d-1327-4e6b-81d1-ed881b659fc2",
        "outputId": "c210db7e-93b2-422f-df42-b46313f53ec2"
      },
      "outputs": [
        {
          "data": {
            "image/png": "[encoded data removed]",
            "text/plain": [
              "<Figure size 640x480 with 1 Axes>"
            ]
          },
          "metadata": {},
          "output_type": "display_data"
        }
      ],
      "source": [
        "import matplotlib.pyplot as plt\n",
        "%matplotlib inline\n",
        "plt.plot(history.history['accuracy'], label='training')\n",
        "plt.plot(history.history['val_accuracy'], label='testing')\n",
        "plt.title('Model accuracy')\n",
        "plt.legend()\n",
        "plt.ylabel('Accuracy')\n",
        "plt.xlabel('Epoch')\n",
        "plt.show()"
      ]
    },
    {
      "cell_type": "code",
      "execution_count": null,
      "id": "9e6c25eb-1242-4b2f-832e-840ccef05041",
      "metadata": {
        "id": "9e6c25eb-1242-4b2f-832e-840ccef05041",
        "outputId": "da815ae9-e2e1-41c4-a5d1-6c3bc66c3faf"
      },
      "outputs": [
        {
          "data": {
            "image/png": "[encoded data removed]",
            "text/plain": [
              "<Figure size 640x480 with 1 Axes>"
            ]
          },
          "metadata": {},
          "output_type": "display_data"
        }
      ],
      "source": [
        "import matplotlib.pyplot as plt\n",
        "%matplotlib inline\n",
        "plt.plot(history.history['loss'], label='training')\n",
        "plt.plot(history.history['val_loss'], label='testing')\n",
        "plt.title('Model Loss')\n",
        "plt.legend()\n",
        "plt.ylabel('Loss')\n",
        "plt.xlabel('Epoch')\n",
        "plt.show()"
      ]
    },
    {
      "cell_type": "markdown",
      "id": "601b02a6-9230-4ae6-a309-72b55353f66b",
      "metadata": {
        "jp-MarkdownHeadingCollapsed": true,
        "tags": [],
        "id": "601b02a6-9230-4ae6-a309-72b55353f66b"
      },
      "source": [
        "# Importing testing data and repeating same data prepping steps from above:"
      ]
    },
    {
      "cell_type": "code",
      "execution_count": null,
      "id": "7c240b7e-4cd1-48cc-9d84-f517269ae576",
      "metadata": {
        "id": "7c240b7e-4cd1-48cc-9d84-f517269ae576"
      },
      "outputs": [],
      "source": [
        "#For the test data I have to: \n",
        "\n",
        "#clean the data\n",
        "\n",
        "#create dummy variables\n",
        "\n",
        "#scale continous variables\n",
        "\n",
        "#then use model.predict for each row of test data and create survived output --> then create new submission df"
      ]
    },
    {
      "cell_type": "markdown",
      "id": "0871e69e-ca90-463f-a491-b2b1d7d46d73",
      "metadata": {
        "jp-MarkdownHeadingCollapsed": true,
        "tags": [],
        "id": "0871e69e-ca90-463f-a491-b2b1d7d46d73"
      },
      "source": [
        "# Data Prep:"
      ]
    },
    {
      "cell_type": "code",
      "execution_count": null,
      "id": "6b2aad94-1d05-4ff1-815f-1bf1776ed648",
      "metadata": {
        "id": "6b2aad94-1d05-4ff1-815f-1bf1776ed648"
      },
      "outputs": [],
      "source": [
        "test_df = pd.read_csv(\"test (1).csv\")"
      ]
    },
    {
      "cell_type": "code",
      "execution_count": null,
      "id": "24daab6b-2bd1-463d-a941-da89a60368f4",
      "metadata": {
        "id": "24daab6b-2bd1-463d-a941-da89a60368f4",
        "outputId": "7f644f1a-4f47-4eba-9bb1-b74c241a35a2"
      },
      "outputs": [
        {
          "data": {
            "text/html": [
              "<div>\n",
              "<style scoped>\n",
              "    .dataframe tbody tr th:only-of-type {\n",
              "        vertical-align: middle;\n",
              "    }\n",
              "\n",
              "    .dataframe tbody tr th {\n",
              "        vertical-align: top;\n",
              "    }\n",
              "\n",
              "    .dataframe thead th {\n",
              "        text-align: right;\n",
              "    }\n",
              "</style>\n",
              "<table border=\"1\" class=\"dataframe\">\n",
              "  <thead>\n",
              "    <tr style=\"text-align: right;\">\n",
              "      <th></th>\n",
              "      <th>PassengerId</th>\n",
              "      <th>Pclass</th>\n",
              "      <th>Name</th>\n",
              "      <th>Sex</th>\n",
              "      <th>Age</th>\n",
              "      <th>SibSp</th>\n",
              "      <th>Parch</th>\n",
              "      <th>Ticket</th>\n",
              "      <th>Fare</th>\n",
              "      <th>Cabin</th>\n",
              "      <th>Embarked</th>\n",
              "    </tr>\n",
              "  </thead>\n",
              "  <tbody>\n",
              "    <tr>\n",
              "      <th>0</th>\n",
              "      <td>892</td>\n",
              "      <td>3</td>\n",
              "      <td>Kelly, Mr. James</td>\n",
              "      <td>male</td>\n",
              "      <td>34.5</td>\n",
              "      <td>0</td>\n",
              "      <td>0</td>\n",
              "      <td>330911</td>\n",
              "      <td>7.8292</td>\n",
              "      <td>NaN</td>\n",
              "      <td>Q</td>\n",
              "    </tr>\n",
              "    <tr>\n",
              "      <th>1</th>\n",
              "      <td>893</td>\n",
              "      <td>3</td>\n",
              "      <td>Wilkes, Mrs. James (Ellen Needs)</td>\n",
              "      <td>female</td>\n",
              "      <td>47.0</td>\n",
              "      <td>1</td>\n",
              "      <td>0</td>\n",
              "      <td>363272</td>\n",
              "      <td>7.0000</td>\n",
              "      <td>NaN</td>\n",
              "      <td>S</td>\n",
              "    </tr>\n",
              "    <tr>\n",
              "      <th>2</th>\n",
              "      <td>894</td>\n",
              "      <td>2</td>\n",
              "      <td>Myles, Mr. Thomas Francis</td>\n",
              "      <td>male</td>\n",
              "      <td>62.0</td>\n",
              "      <td>0</td>\n",
              "      <td>0</td>\n",
              "      <td>240276</td>\n",
              "      <td>9.6875</td>\n",
              "      <td>NaN</td>\n",
              "      <td>Q</td>\n",
              "    </tr>\n",
              "    <tr>\n",
              "      <th>3</th>\n",
              "      <td>895</td>\n",
              "      <td>3</td>\n",
              "      <td>Wirz, Mr. Albert</td>\n",
              "      <td>male</td>\n",
              "      <td>27.0</td>\n",
              "      <td>0</td>\n",
              "      <td>0</td>\n",
              "      <td>315154</td>\n",
              "      <td>8.6625</td>\n",
              "      <td>NaN</td>\n",
              "      <td>S</td>\n",
              "    </tr>\n",
              "    <tr>\n",
              "      <th>4</th>\n",
              "      <td>896</td>\n",
              "      <td>3</td>\n",
              "      <td>Hirvonen, Mrs. Alexander (Helga E Lindqvist)</td>\n",
              "      <td>female</td>\n",
              "      <td>22.0</td>\n",
              "      <td>1</td>\n",
              "      <td>1</td>\n",
              "      <td>3101298</td>\n",
              "      <td>12.2875</td>\n",
              "      <td>NaN</td>\n",
              "      <td>S</td>\n",
              "    </tr>\n",
              "  </tbody>\n",
              "</table>\n",
              "</div>"
            ],
            "text/plain": [
              "   PassengerId  Pclass                                          Name     Sex  \\\n",
              "0          892       3                              Kelly, Mr. James    male   \n",
              "1          893       3              Wilkes, Mrs. James (Ellen Needs)  female   \n",
              "2          894       2                     Myles, Mr. Thomas Francis    male   \n",
              "3          895       3                              Wirz, Mr. Albert    male   \n",
              "4          896       3  Hirvonen, Mrs. Alexander (Helga E Lindqvist)  female   \n",
              "\n",
              "    Age  SibSp  Parch   Ticket     Fare Cabin Embarked  \n",
              "0  34.5      0      0   330911   7.8292   NaN        Q  \n",
              "1  47.0      1      0   363272   7.0000   NaN        S  \n",
              "2  62.0      0      0   240276   9.6875   NaN        Q  \n",
              "3  27.0      0      0   315154   8.6625   NaN        S  \n",
              "4  22.0      1      1  3101298  12.2875   NaN        S  "
            ]
          },
          "execution_count": 41,
          "metadata": {},
          "output_type": "execute_result"
        }
      ],
      "source": [
        "test_df.head()"
      ]
    },
    {
      "cell_type": "code",
      "execution_count": null,
      "id": "fc5845d0-31f8-405f-9c0f-250f82052147",
      "metadata": {
        "id": "fc5845d0-31f8-405f-9c0f-250f82052147",
        "outputId": "bf4b24cd-0d02-47f8-b893-851964ce8d1a"
      },
      "outputs": [
        {
          "data": {
            "text/plain": [
              "Index(['PassengerId', 'Pclass', 'Name', 'Sex', 'Age', 'SibSp', 'Parch',\n",
              "       'Ticket', 'Fare', 'Cabin', 'Embarked'],\n",
              "      dtype='object')"
            ]
          },
          "execution_count": 42,
          "metadata": {},
          "output_type": "execute_result"
        }
      ],
      "source": [
        "test_df.columns"
      ]
    },
    {
      "cell_type": "code",
      "execution_count": null,
      "id": "13e8cb44-c860-4105-bd2e-760e70284fb0",
      "metadata": {
        "id": "13e8cb44-c860-4105-bd2e-760e70284fb0",
        "outputId": "1b834e72-13cc-4e3c-bdbb-512b265dc581"
      },
      "outputs": [
        {
          "data": {
            "text/plain": [
              "Index(['Age', 'SibSp', 'Parch', 'Fare', 'Survived', 'Pclass_1', 'Pclass_2',\n",
              "       'Pclass_3', 'Sex_female', 'Sex_male', 'Embarked_C', 'Embarked_Q',\n",
              "       'Embarked_S'],\n",
              "      dtype='object')"
            ]
          },
          "execution_count": 43,
          "metadata": {},
          "output_type": "execute_result"
        }
      ],
      "source": [
        "scaled_df.columns"
      ]
    },
    {
      "cell_type": "code",
      "execution_count": null,
      "id": "8b35df1d-afa8-4893-aa3a-407e10758e92",
      "metadata": {
        "id": "8b35df1d-afa8-4893-aa3a-407e10758e92"
      },
      "outputs": [],
      "source": [
        "test_df.drop([\"Cabin\", \"Name\", \"Ticket\"], axis=1, inplace=True)"
      ]
    },
    {
      "cell_type": "code",
      "execution_count": null,
      "id": "a93254f0-4d4e-42b8-8dc4-32df6e7247a5",
      "metadata": {
        "id": "a93254f0-4d4e-42b8-8dc4-32df6e7247a5",
        "outputId": "666e0b75-64d0-49a9-91e4-bdcaca9f54e6"
      },
      "outputs": [
        {
          "data": {
            "text/html": [
              "<div>\n",
              "<style scoped>\n",
              "    .dataframe tbody tr th:only-of-type {\n",
              "        vertical-align: middle;\n",
              "    }\n",
              "\n",
              "    .dataframe tbody tr th {\n",
              "        vertical-align: top;\n",
              "    }\n",
              "\n",
              "    .dataframe thead th {\n",
              "        text-align: right;\n",
              "    }\n",
              "</style>\n",
              "<table border=\"1\" class=\"dataframe\">\n",
              "  <thead>\n",
              "    <tr style=\"text-align: right;\">\n",
              "      <th></th>\n",
              "      <th>PassengerId</th>\n",
              "      <th>Pclass</th>\n",
              "      <th>Sex</th>\n",
              "      <th>Age</th>\n",
              "      <th>SibSp</th>\n",
              "      <th>Parch</th>\n",
              "      <th>Fare</th>\n",
              "      <th>Embarked</th>\n",
              "    </tr>\n",
              "  </thead>\n",
              "  <tbody>\n",
              "    <tr>\n",
              "      <th>0</th>\n",
              "      <td>892</td>\n",
              "      <td>3</td>\n",
              "      <td>male</td>\n",
              "      <td>34.5</td>\n",
              "      <td>0</td>\n",
              "      <td>0</td>\n",
              "      <td>7.8292</td>\n",
              "      <td>Q</td>\n",
              "    </tr>\n",
              "    <tr>\n",
              "      <th>1</th>\n",
              "      <td>893</td>\n",
              "      <td>3</td>\n",
              "      <td>female</td>\n",
              "      <td>47.0</td>\n",
              "      <td>1</td>\n",
              "      <td>0</td>\n",
              "      <td>7.0000</td>\n",
              "      <td>S</td>\n",
              "    </tr>\n",
              "    <tr>\n",
              "      <th>2</th>\n",
              "      <td>894</td>\n",
              "      <td>2</td>\n",
              "      <td>male</td>\n",
              "      <td>62.0</td>\n",
              "      <td>0</td>\n",
              "      <td>0</td>\n",
              "      <td>9.6875</td>\n",
              "      <td>Q</td>\n",
              "    </tr>\n",
              "    <tr>\n",
              "      <th>3</th>\n",
              "      <td>895</td>\n",
              "      <td>3</td>\n",
              "      <td>male</td>\n",
              "      <td>27.0</td>\n",
              "      <td>0</td>\n",
              "      <td>0</td>\n",
              "      <td>8.6625</td>\n",
              "      <td>S</td>\n",
              "    </tr>\n",
              "    <tr>\n",
              "      <th>4</th>\n",
              "      <td>896</td>\n",
              "      <td>3</td>\n",
              "      <td>female</td>\n",
              "      <td>22.0</td>\n",
              "      <td>1</td>\n",
              "      <td>1</td>\n",
              "      <td>12.2875</td>\n",
              "      <td>S</td>\n",
              "    </tr>\n",
              "  </tbody>\n",
              "</table>\n",
              "</div>"
            ],
            "text/plain": [
              "   PassengerId  Pclass     Sex   Age  SibSp  Parch     Fare Embarked\n",
              "0          892       3    male  34.5      0      0   7.8292        Q\n",
              "1          893       3  female  47.0      1      0   7.0000        S\n",
              "2          894       2    male  62.0      0      0   9.6875        Q\n",
              "3          895       3    male  27.0      0      0   8.6625        S\n",
              "4          896       3  female  22.0      1      1  12.2875        S"
            ]
          },
          "execution_count": 45,
          "metadata": {},
          "output_type": "execute_result"
        }
      ],
      "source": [
        "test_df.head()"
      ]
    },
    {
      "cell_type": "code",
      "execution_count": null,
      "id": "ed7c5e0b-5535-442c-a062-c77639852d91",
      "metadata": {
        "id": "ed7c5e0b-5535-442c-a062-c77639852d91",
        "outputId": "e917916e-8a9f-4ce3-989f-9b29c6f81395"
      },
      "outputs": [
        {
          "data": {
            "text/plain": [
              "PassengerId     0\n",
              "Pclass          0\n",
              "Sex             0\n",
              "Age            86\n",
              "SibSp           0\n",
              "Parch           0\n",
              "Fare            1\n",
              "Embarked        0\n",
              "dtype: int64"
            ]
          },
          "execution_count": 46,
          "metadata": {},
          "output_type": "execute_result"
        }
      ],
      "source": [
        "test_df.isnull().sum()"
      ]
    },
    {
      "cell_type": "code",
      "execution_count": null,
      "id": "35c8a5dc-9421-42b9-97bb-2cff7f4bac59",
      "metadata": {
        "id": "35c8a5dc-9421-42b9-97bb-2cff7f4bac59"
      },
      "outputs": [],
      "source": [
        "#replace missing age w/mean imputation:\n",
        "\n",
        "test_df[\"Age\"].fillna(test_df[\"Age\"].mean(), inplace=True)"
      ]
    },
    {
      "cell_type": "code",
      "execution_count": null,
      "id": "80c886f3-43ae-4eb6-83fa-5cb57babddbe",
      "metadata": {
        "id": "80c886f3-43ae-4eb6-83fa-5cb57babddbe",
        "outputId": "d94486c1-c573-4e80-c0ea-2af329e55c02"
      },
      "outputs": [
        {
          "data": {
            "text/plain": [
              "35.6271884892086"
            ]
          },
          "execution_count": 48,
          "metadata": {},
          "output_type": "execute_result"
        }
      ],
      "source": [
        "test_df[\"Fare\"].mean()"
      ]
    },
    {
      "cell_type": "code",
      "execution_count": null,
      "id": "ac64fb40-ec2e-4d8b-94c2-59b450fd18eb",
      "metadata": {
        "id": "ac64fb40-ec2e-4d8b-94c2-59b450fd18eb",
        "outputId": "c3601d99-3976-4a3c-e8da-9cdb8448ac4c"
      },
      "outputs": [
        {
          "data": {
            "text/plain": [
              "14.4542"
            ]
          },
          "execution_count": 49,
          "metadata": {},
          "output_type": "execute_result"
        }
      ],
      "source": [
        "test_df[\"Fare\"].median()"
      ]
    },
    {
      "cell_type": "code",
      "execution_count": null,
      "id": "1b40e2c3-183b-43b6-888f-ac55fb4112e4",
      "metadata": {
        "id": "1b40e2c3-183b-43b6-888f-ac55fb4112e4",
        "outputId": "b9d5f81a-5a40-4d54-85f2-ecc879c7a122"
      },
      "outputs": [
        {
          "data": {
            "image/png": "[encoded data removed]",
            "text/plain": [
              "<Figure size 640x480 with 1 Axes>"
            ]
          },
          "metadata": {},
          "output_type": "display_data"
        }
      ],
      "source": [
        "#I can tell the data is rightward skewed with some high priced fare outliers\n",
        "\n",
        "#let's confirm:\n",
        "\n",
        "test_df[\"Fare\"].plot(kind=\"hist\", bins=50)\n",
        "plt.show()"
      ]
    },
    {
      "cell_type": "code",
      "execution_count": null,
      "id": "6fa3b358-6569-4a6b-b453-be4f9b1dc6d0",
      "metadata": {
        "id": "6fa3b358-6569-4a6b-b453-be4f9b1dc6d0"
      },
      "outputs": [],
      "source": [
        "#Becuase of this, let's use median to replace missing fare value --> more likely this is around the true value, compared to mean\n",
        "#either way, not much of a big deal considering it's only for one missing observation compared to the data's 417 other observations\n",
        "\n",
        "\n",
        "test_df[\"Fare\"].fillna(test_df[\"Fare\"].median(), inplace=True)\n"
      ]
    },
    {
      "cell_type": "code",
      "execution_count": null,
      "id": "386e8460-5f5c-4066-8b2f-d0ec4c079ec0",
      "metadata": {
        "id": "386e8460-5f5c-4066-8b2f-d0ec4c079ec0",
        "outputId": "73ae718c-8aae-49b1-df55-82f369e3a280"
      },
      "outputs": [
        {
          "data": {
            "text/plain": [
              "PassengerId    0\n",
              "Pclass         0\n",
              "Sex            0\n",
              "Age            0\n",
              "SibSp          0\n",
              "Parch          0\n",
              "Fare           0\n",
              "Embarked       0\n",
              "dtype: int64"
            ]
          },
          "execution_count": 52,
          "metadata": {},
          "output_type": "execute_result"
        }
      ],
      "source": [
        "test_df.isnull().sum()"
      ]
    },
    {
      "cell_type": "code",
      "execution_count": null,
      "id": "dfd333ae-5d85-4c20-9089-29d6a0220cd9",
      "metadata": {
        "id": "dfd333ae-5d85-4c20-9089-29d6a0220cd9",
        "outputId": "6707f5cc-5acd-46a7-9b2e-38090fdc219f"
      },
      "outputs": [
        {
          "data": {
            "text/html": [
              "<div>\n",
              "<style scoped>\n",
              "    .dataframe tbody tr th:only-of-type {\n",
              "        vertical-align: middle;\n",
              "    }\n",
              "\n",
              "    .dataframe tbody tr th {\n",
              "        vertical-align: top;\n",
              "    }\n",
              "\n",
              "    .dataframe thead th {\n",
              "        text-align: right;\n",
              "    }\n",
              "</style>\n",
              "<table border=\"1\" class=\"dataframe\">\n",
              "  <thead>\n",
              "    <tr style=\"text-align: right;\">\n",
              "      <th></th>\n",
              "      <th>PassengerId</th>\n",
              "      <th>Pclass</th>\n",
              "      <th>Sex</th>\n",
              "      <th>Age</th>\n",
              "      <th>SibSp</th>\n",
              "      <th>Parch</th>\n",
              "      <th>Fare</th>\n",
              "      <th>Embarked</th>\n",
              "    </tr>\n",
              "  </thead>\n",
              "  <tbody>\n",
              "    <tr>\n",
              "      <th>0</th>\n",
              "      <td>892</td>\n",
              "      <td>3</td>\n",
              "      <td>male</td>\n",
              "      <td>34.5</td>\n",
              "      <td>0</td>\n",
              "      <td>0</td>\n",
              "      <td>7.8292</td>\n",
              "      <td>Q</td>\n",
              "    </tr>\n",
              "    <tr>\n",
              "      <th>1</th>\n",
              "      <td>893</td>\n",
              "      <td>3</td>\n",
              "      <td>female</td>\n",
              "      <td>47.0</td>\n",
              "      <td>1</td>\n",
              "      <td>0</td>\n",
              "      <td>7.0000</td>\n",
              "      <td>S</td>\n",
              "    </tr>\n",
              "    <tr>\n",
              "      <th>2</th>\n",
              "      <td>894</td>\n",
              "      <td>2</td>\n",
              "      <td>male</td>\n",
              "      <td>62.0</td>\n",
              "      <td>0</td>\n",
              "      <td>0</td>\n",
              "      <td>9.6875</td>\n",
              "      <td>Q</td>\n",
              "    </tr>\n",
              "    <tr>\n",
              "      <th>3</th>\n",
              "      <td>895</td>\n",
              "      <td>3</td>\n",
              "      <td>male</td>\n",
              "      <td>27.0</td>\n",
              "      <td>0</td>\n",
              "      <td>0</td>\n",
              "      <td>8.6625</td>\n",
              "      <td>S</td>\n",
              "    </tr>\n",
              "    <tr>\n",
              "      <th>4</th>\n",
              "      <td>896</td>\n",
              "      <td>3</td>\n",
              "      <td>female</td>\n",
              "      <td>22.0</td>\n",
              "      <td>1</td>\n",
              "      <td>1</td>\n",
              "      <td>12.2875</td>\n",
              "      <td>S</td>\n",
              "    </tr>\n",
              "  </tbody>\n",
              "</table>\n",
              "</div>"
            ],
            "text/plain": [
              "   PassengerId  Pclass     Sex   Age  SibSp  Parch     Fare Embarked\n",
              "0          892       3    male  34.5      0      0   7.8292        Q\n",
              "1          893       3  female  47.0      1      0   7.0000        S\n",
              "2          894       2    male  62.0      0      0   9.6875        Q\n",
              "3          895       3    male  27.0      0      0   8.6625        S\n",
              "4          896       3  female  22.0      1      1  12.2875        S"
            ]
          },
          "execution_count": 53,
          "metadata": {},
          "output_type": "execute_result"
        }
      ],
      "source": [
        "test_df.head()"
      ]
    },
    {
      "cell_type": "code",
      "execution_count": null,
      "id": "3c327f07-feae-415b-8753-381d16586e90",
      "metadata": {
        "id": "3c327f07-feae-415b-8753-381d16586e90"
      },
      "outputs": [],
      "source": [
        "test_df[\"Pclass\"] = test_df[\"Pclass\"].astype(\"category\")"
      ]
    },
    {
      "cell_type": "code",
      "execution_count": null,
      "id": "7e28d70a-526b-488c-b8ca-562240cea857",
      "metadata": {
        "id": "7e28d70a-526b-488c-b8ca-562240cea857"
      },
      "outputs": [],
      "source": [
        "test_df1 = pd.get_dummies(test_df)"
      ]
    },
    {
      "cell_type": "code",
      "execution_count": null,
      "id": "7fc38fc6-8af8-41f6-a32c-59628b9ce0a1",
      "metadata": {
        "id": "7fc38fc6-8af8-41f6-a32c-59628b9ce0a1",
        "outputId": "ca5661e3-391d-4e65-cc7f-eb8a7c19718d"
      },
      "outputs": [
        {
          "data": {
            "text/html": [
              "<div>\n",
              "<style scoped>\n",
              "    .dataframe tbody tr th:only-of-type {\n",
              "        vertical-align: middle;\n",
              "    }\n",
              "\n",
              "    .dataframe tbody tr th {\n",
              "        vertical-align: top;\n",
              "    }\n",
              "\n",
              "    .dataframe thead th {\n",
              "        text-align: right;\n",
              "    }\n",
              "</style>\n",
              "<table border=\"1\" class=\"dataframe\">\n",
              "  <thead>\n",
              "    <tr style=\"text-align: right;\">\n",
              "      <th></th>\n",
              "      <th>PassengerId</th>\n",
              "      <th>Age</th>\n",
              "      <th>SibSp</th>\n",
              "      <th>Parch</th>\n",
              "      <th>Fare</th>\n",
              "      <th>Pclass_1</th>\n",
              "      <th>Pclass_2</th>\n",
              "      <th>Pclass_3</th>\n",
              "      <th>Sex_female</th>\n",
              "      <th>Sex_male</th>\n",
              "      <th>Embarked_C</th>\n",
              "      <th>Embarked_Q</th>\n",
              "      <th>Embarked_S</th>\n",
              "    </tr>\n",
              "  </thead>\n",
              "  <tbody>\n",
              "    <tr>\n",
              "      <th>0</th>\n",
              "      <td>892</td>\n",
              "      <td>34.5</td>\n",
              "      <td>0</td>\n",
              "      <td>0</td>\n",
              "      <td>7.8292</td>\n",
              "      <td>0</td>\n",
              "      <td>0</td>\n",
              "      <td>1</td>\n",
              "      <td>0</td>\n",
              "      <td>1</td>\n",
              "      <td>0</td>\n",
              "      <td>1</td>\n",
              "      <td>0</td>\n",
              "    </tr>\n",
              "    <tr>\n",
              "      <th>1</th>\n",
              "      <td>893</td>\n",
              "      <td>47.0</td>\n",
              "      <td>1</td>\n",
              "      <td>0</td>\n",
              "      <td>7.0000</td>\n",
              "      <td>0</td>\n",
              "      <td>0</td>\n",
              "      <td>1</td>\n",
              "      <td>1</td>\n",
              "      <td>0</td>\n",
              "      <td>0</td>\n",
              "      <td>0</td>\n",
              "      <td>1</td>\n",
              "    </tr>\n",
              "    <tr>\n",
              "      <th>2</th>\n",
              "      <td>894</td>\n",
              "      <td>62.0</td>\n",
              "      <td>0</td>\n",
              "      <td>0</td>\n",
              "      <td>9.6875</td>\n",
              "      <td>0</td>\n",
              "      <td>1</td>\n",
              "      <td>0</td>\n",
              "      <td>0</td>\n",
              "      <td>1</td>\n",
              "      <td>0</td>\n",
              "      <td>1</td>\n",
              "      <td>0</td>\n",
              "    </tr>\n",
              "    <tr>\n",
              "      <th>3</th>\n",
              "      <td>895</td>\n",
              "      <td>27.0</td>\n",
              "      <td>0</td>\n",
              "      <td>0</td>\n",
              "      <td>8.6625</td>\n",
              "      <td>0</td>\n",
              "      <td>0</td>\n",
              "      <td>1</td>\n",
              "      <td>0</td>\n",
              "      <td>1</td>\n",
              "      <td>0</td>\n",
              "      <td>0</td>\n",
              "      <td>1</td>\n",
              "    </tr>\n",
              "    <tr>\n",
              "      <th>4</th>\n",
              "      <td>896</td>\n",
              "      <td>22.0</td>\n",
              "      <td>1</td>\n",
              "      <td>1</td>\n",
              "      <td>12.2875</td>\n",
              "      <td>0</td>\n",
              "      <td>0</td>\n",
              "      <td>1</td>\n",
              "      <td>1</td>\n",
              "      <td>0</td>\n",
              "      <td>0</td>\n",
              "      <td>0</td>\n",
              "      <td>1</td>\n",
              "    </tr>\n",
              "  </tbody>\n",
              "</table>\n",
              "</div>"
            ],
            "text/plain": [
              "   PassengerId   Age  SibSp  Parch     Fare  Pclass_1  Pclass_2  Pclass_3  \\\n",
              "0          892  34.5      0      0   7.8292         0         0         1   \n",
              "1          893  47.0      1      0   7.0000         0         0         1   \n",
              "2          894  62.0      0      0   9.6875         0         1         0   \n",
              "3          895  27.0      0      0   8.6625         0         0         1   \n",
              "4          896  22.0      1      1  12.2875         0         0         1   \n",
              "\n",
              "   Sex_female  Sex_male  Embarked_C  Embarked_Q  Embarked_S  \n",
              "0           0         1           0           1           0  \n",
              "1           1         0           0           0           1  \n",
              "2           0         1           0           1           0  \n",
              "3           0         1           0           0           1  \n",
              "4           1         0           0           0           1  "
            ]
          },
          "execution_count": 56,
          "metadata": {},
          "output_type": "execute_result"
        }
      ],
      "source": [
        "test_df1.head()"
      ]
    },
    {
      "cell_type": "code",
      "execution_count": null,
      "id": "be0ca9fa-21b6-42b0-9957-fe53dfcc5ccf",
      "metadata": {
        "id": "be0ca9fa-21b6-42b0-9957-fe53dfcc5ccf"
      },
      "outputs": [],
      "source": [
        "#scale continuous features: age, sibsp, parch, and fare\n",
        "\n",
        "temp = test_df1[[\"Age\", \"SibSp\", \"Parch\", \"Fare\"]]\n",
        "\n",
        "scaler = StandardScaler()\n",
        "scaled_array = scaler.fit_transform(temp)\n",
        "test_scaled_df = pd.DataFrame(scaled_array, columns=[\"Age\", \"SibSp\", \"Parch\", \"Fare\"])"
      ]
    },
    {
      "cell_type": "code",
      "execution_count": null,
      "id": "7696c860-ec26-404c-bdb6-98b96c6deff7",
      "metadata": {
        "id": "7696c860-ec26-404c-bdb6-98b96c6deff7"
      },
      "outputs": [],
      "source": [
        "#combine the dfs back together:\n",
        "\n",
        "test_scaled_df[['Pclass_1', 'Pclass_2',\n",
        "       'Pclass_3', 'Sex_female', 'Sex_male', 'Embarked_C', 'Embarked_Q',\n",
        "       'Embarked_S']] = test_df1[['Pclass_1', 'Pclass_2',\n",
        "       'Pclass_3', 'Sex_female', 'Sex_male', 'Embarked_C', 'Embarked_Q',\n",
        "       'Embarked_S']]"
      ]
    },
    {
      "cell_type": "code",
      "execution_count": null,
      "id": "9d94a00e-c905-4d56-a939-c18c6e117f2b",
      "metadata": {
        "id": "9d94a00e-c905-4d56-a939-c18c6e117f2b",
        "outputId": "fb898375-2cd8-4ca7-da21-aa742e647b04"
      },
      "outputs": [
        {
          "data": {
            "text/plain": [
              "Index(['Age', 'SibSp', 'Parch', 'Fare', 'Pclass_1', 'Pclass_2', 'Pclass_3',\n",
              "       'Sex_female', 'Sex_male', 'Embarked_C', 'Embarked_Q', 'Embarked_S'],\n",
              "      dtype='object')"
            ]
          },
          "execution_count": 59,
          "metadata": {},
          "output_type": "execute_result"
        }
      ],
      "source": [
        "test_scaled_df.columns"
      ]
    },
    {
      "cell_type": "code",
      "execution_count": null,
      "id": "aad49aa2-ca29-4ced-9c2d-56983406bf1d",
      "metadata": {
        "id": "aad49aa2-ca29-4ced-9c2d-56983406bf1d"
      },
      "outputs": [],
      "source": [
        "### FIX THIS WE LOST PASSENGERID FROM THE ABOVE CODE AND SIMPLY LEFT JOINING ISNT GOOD ENOUGH TO REALLY \n",
        "#BE ENSURE THAT WE ARE REJOINING THE DATA ON THE ORIGINAL ROW THAT MATCHES THE DATA"
      ]
    },
    {
      "cell_type": "code",
      "execution_count": null,
      "id": "ee295b97-fce2-466d-8a92-5ad617ebf4a4",
      "metadata": {
        "id": "ee295b97-fce2-466d-8a92-5ad617ebf4a4"
      },
      "outputs": [],
      "source": [
        "#methods: that could be used: merge(), join(), concat()\n",
        "\n",
        "#temp fix left join passenger ID back into test_scaled_df:\n",
        "\n",
        "test = pd.concat([test_scaled_df, test_df1[\"PassengerId\"]], axis=\"columns\")"
      ]
    },
    {
      "cell_type": "code",
      "execution_count": null,
      "id": "97d0a90a-eeb9-4483-8407-2d728671d670",
      "metadata": {
        "id": "97d0a90a-eeb9-4483-8407-2d728671d670",
        "outputId": "124626fd-7525-41c8-cd31-ee7eacb5ef3e"
      },
      "outputs": [
        {
          "data": {
            "text/html": [
              "<div>\n",
              "<style scoped>\n",
              "    .dataframe tbody tr th:only-of-type {\n",
              "        vertical-align: middle;\n",
              "    }\n",
              "\n",
              "    .dataframe tbody tr th {\n",
              "        vertical-align: top;\n",
              "    }\n",
              "\n",
              "    .dataframe thead th {\n",
              "        text-align: right;\n",
              "    }\n",
              "</style>\n",
              "<table border=\"1\" class=\"dataframe\">\n",
              "  <thead>\n",
              "    <tr style=\"text-align: right;\">\n",
              "      <th></th>\n",
              "      <th>Age</th>\n",
              "      <th>SibSp</th>\n",
              "      <th>Parch</th>\n",
              "      <th>Fare</th>\n",
              "      <th>Pclass_1</th>\n",
              "      <th>Pclass_2</th>\n",
              "      <th>Pclass_3</th>\n",
              "      <th>Sex_female</th>\n",
              "      <th>Sex_male</th>\n",
              "      <th>Embarked_C</th>\n",
              "      <th>Embarked_Q</th>\n",
              "      <th>Embarked_S</th>\n",
              "      <th>PassengerId</th>\n",
              "    </tr>\n",
              "  </thead>\n",
              "  <tbody>\n",
              "    <tr>\n",
              "      <th>0</th>\n",
              "      <td>0.334993</td>\n",
              "      <td>-0.499470</td>\n",
              "      <td>-0.400248</td>\n",
              "      <td>-0.497413</td>\n",
              "      <td>0</td>\n",
              "      <td>0</td>\n",
              "      <td>1</td>\n",
              "      <td>0</td>\n",
              "      <td>1</td>\n",
              "      <td>0</td>\n",
              "      <td>1</td>\n",
              "      <td>0</td>\n",
              "      <td>892</td>\n",
              "    </tr>\n",
              "    <tr>\n",
              "      <th>1</th>\n",
              "      <td>1.325530</td>\n",
              "      <td>0.616992</td>\n",
              "      <td>-0.400248</td>\n",
              "      <td>-0.512278</td>\n",
              "      <td>0</td>\n",
              "      <td>0</td>\n",
              "      <td>1</td>\n",
              "      <td>1</td>\n",
              "      <td>0</td>\n",
              "      <td>0</td>\n",
              "      <td>0</td>\n",
              "      <td>1</td>\n",
              "      <td>893</td>\n",
              "    </tr>\n",
              "    <tr>\n",
              "      <th>2</th>\n",
              "      <td>2.514175</td>\n",
              "      <td>-0.499470</td>\n",
              "      <td>-0.400248</td>\n",
              "      <td>-0.464100</td>\n",
              "      <td>0</td>\n",
              "      <td>1</td>\n",
              "      <td>0</td>\n",
              "      <td>0</td>\n",
              "      <td>1</td>\n",
              "      <td>0</td>\n",
              "      <td>1</td>\n",
              "      <td>0</td>\n",
              "      <td>894</td>\n",
              "    </tr>\n",
              "    <tr>\n",
              "      <th>3</th>\n",
              "      <td>-0.259330</td>\n",
              "      <td>-0.499470</td>\n",
              "      <td>-0.400248</td>\n",
              "      <td>-0.482475</td>\n",
              "      <td>0</td>\n",
              "      <td>0</td>\n",
              "      <td>1</td>\n",
              "      <td>0</td>\n",
              "      <td>1</td>\n",
              "      <td>0</td>\n",
              "      <td>0</td>\n",
              "      <td>1</td>\n",
              "      <td>895</td>\n",
              "    </tr>\n",
              "    <tr>\n",
              "      <th>4</th>\n",
              "      <td>-0.655545</td>\n",
              "      <td>0.616992</td>\n",
              "      <td>0.619896</td>\n",
              "      <td>-0.417492</td>\n",
              "      <td>0</td>\n",
              "      <td>0</td>\n",
              "      <td>1</td>\n",
              "      <td>1</td>\n",
              "      <td>0</td>\n",
              "      <td>0</td>\n",
              "      <td>0</td>\n",
              "      <td>1</td>\n",
              "      <td>896</td>\n",
              "    </tr>\n",
              "  </tbody>\n",
              "</table>\n",
              "</div>"
            ],
            "text/plain": [
              "        Age     SibSp     Parch      Fare  Pclass_1  Pclass_2  Pclass_3  \\\n",
              "0  0.334993 -0.499470 -0.400248 -0.497413         0         0         1   \n",
              "1  1.325530  0.616992 -0.400248 -0.512278         0         0         1   \n",
              "2  2.514175 -0.499470 -0.400248 -0.464100         0         1         0   \n",
              "3 -0.259330 -0.499470 -0.400248 -0.482475         0         0         1   \n",
              "4 -0.655545  0.616992  0.619896 -0.417492         0         0         1   \n",
              "\n",
              "   Sex_female  Sex_male  Embarked_C  Embarked_Q  Embarked_S  PassengerId  \n",
              "0           0         1           0           1           0          892  \n",
              "1           1         0           0           0           1          893  \n",
              "2           0         1           0           1           0          894  \n",
              "3           0         1           0           0           1          895  \n",
              "4           1         0           0           0           1          896  "
            ]
          },
          "execution_count": 62,
          "metadata": {},
          "output_type": "execute_result"
        }
      ],
      "source": [
        "test.head()"
      ]
    },
    {
      "cell_type": "code",
      "execution_count": null,
      "id": "927aa396-7fcf-4f2c-bd88-b87e1f5abd95",
      "metadata": {
        "id": "927aa396-7fcf-4f2c-bd88-b87e1f5abd95",
        "outputId": "dfdb3fd2-3f99-4c80-a6e1-f79d9b418138"
      },
      "outputs": [
        {
          "data": {
            "text/html": [
              "<div>\n",
              "<style scoped>\n",
              "    .dataframe tbody tr th:only-of-type {\n",
              "        vertical-align: middle;\n",
              "    }\n",
              "\n",
              "    .dataframe tbody tr th {\n",
              "        vertical-align: top;\n",
              "    }\n",
              "\n",
              "    .dataframe thead th {\n",
              "        text-align: right;\n",
              "    }\n",
              "</style>\n",
              "<table border=\"1\" class=\"dataframe\">\n",
              "  <thead>\n",
              "    <tr style=\"text-align: right;\">\n",
              "      <th></th>\n",
              "      <th>Age</th>\n",
              "      <th>SibSp</th>\n",
              "      <th>Parch</th>\n",
              "      <th>Fare</th>\n",
              "      <th>Pclass_1</th>\n",
              "      <th>Pclass_2</th>\n",
              "      <th>Pclass_3</th>\n",
              "      <th>Sex_female</th>\n",
              "      <th>Sex_male</th>\n",
              "      <th>Embarked_C</th>\n",
              "      <th>Embarked_Q</th>\n",
              "      <th>Embarked_S</th>\n",
              "    </tr>\n",
              "  </thead>\n",
              "  <tbody>\n",
              "    <tr>\n",
              "      <th>0</th>\n",
              "      <td>0.334993</td>\n",
              "      <td>-0.499470</td>\n",
              "      <td>-0.400248</td>\n",
              "      <td>-0.497413</td>\n",
              "      <td>0</td>\n",
              "      <td>0</td>\n",
              "      <td>1</td>\n",
              "      <td>0</td>\n",
              "      <td>1</td>\n",
              "      <td>0</td>\n",
              "      <td>1</td>\n",
              "      <td>0</td>\n",
              "    </tr>\n",
              "    <tr>\n",
              "      <th>1</th>\n",
              "      <td>1.325530</td>\n",
              "      <td>0.616992</td>\n",
              "      <td>-0.400248</td>\n",
              "      <td>-0.512278</td>\n",
              "      <td>0</td>\n",
              "      <td>0</td>\n",
              "      <td>1</td>\n",
              "      <td>1</td>\n",
              "      <td>0</td>\n",
              "      <td>0</td>\n",
              "      <td>0</td>\n",
              "      <td>1</td>\n",
              "    </tr>\n",
              "    <tr>\n",
              "      <th>2</th>\n",
              "      <td>2.514175</td>\n",
              "      <td>-0.499470</td>\n",
              "      <td>-0.400248</td>\n",
              "      <td>-0.464100</td>\n",
              "      <td>0</td>\n",
              "      <td>1</td>\n",
              "      <td>0</td>\n",
              "      <td>0</td>\n",
              "      <td>1</td>\n",
              "      <td>0</td>\n",
              "      <td>1</td>\n",
              "      <td>0</td>\n",
              "    </tr>\n",
              "    <tr>\n",
              "      <th>3</th>\n",
              "      <td>-0.259330</td>\n",
              "      <td>-0.499470</td>\n",
              "      <td>-0.400248</td>\n",
              "      <td>-0.482475</td>\n",
              "      <td>0</td>\n",
              "      <td>0</td>\n",
              "      <td>1</td>\n",
              "      <td>0</td>\n",
              "      <td>1</td>\n",
              "      <td>0</td>\n",
              "      <td>0</td>\n",
              "      <td>1</td>\n",
              "    </tr>\n",
              "    <tr>\n",
              "      <th>4</th>\n",
              "      <td>-0.655545</td>\n",
              "      <td>0.616992</td>\n",
              "      <td>0.619896</td>\n",
              "      <td>-0.417492</td>\n",
              "      <td>0</td>\n",
              "      <td>0</td>\n",
              "      <td>1</td>\n",
              "      <td>1</td>\n",
              "      <td>0</td>\n",
              "      <td>0</td>\n",
              "      <td>0</td>\n",
              "      <td>1</td>\n",
              "    </tr>\n",
              "  </tbody>\n",
              "</table>\n",
              "</div>"
            ],
            "text/plain": [
              "        Age     SibSp     Parch      Fare  Pclass_1  Pclass_2  Pclass_3  \\\n",
              "0  0.334993 -0.499470 -0.400248 -0.497413         0         0         1   \n",
              "1  1.325530  0.616992 -0.400248 -0.512278         0         0         1   \n",
              "2  2.514175 -0.499470 -0.400248 -0.464100         0         1         0   \n",
              "3 -0.259330 -0.499470 -0.400248 -0.482475         0         0         1   \n",
              "4 -0.655545  0.616992  0.619896 -0.417492         0         0         1   \n",
              "\n",
              "   Sex_female  Sex_male  Embarked_C  Embarked_Q  Embarked_S  \n",
              "0           0         1           0           1           0  \n",
              "1           1         0           0           0           1  \n",
              "2           0         1           0           1           0  \n",
              "3           0         1           0           0           1  \n",
              "4           1         0           0           0           1  "
            ]
          },
          "execution_count": 63,
          "metadata": {},
          "output_type": "execute_result"
        }
      ],
      "source": [
        "test_scaled_df.head()"
      ]
    },
    {
      "cell_type": "markdown",
      "id": "2cdcdcbc-efbc-47a1-b0cf-b08de88a272d",
      "metadata": {
        "jp-MarkdownHeadingCollapsed": true,
        "tags": [],
        "id": "2cdcdcbc-efbc-47a1-b0cf-b08de88a272d"
      },
      "source": [
        "# Testing the model on test data:"
      ]
    },
    {
      "cell_type": "code",
      "execution_count": null,
      "id": "6c2bc405-54ce-459e-b3cb-66a67837d3b3",
      "metadata": {
        "id": "6c2bc405-54ce-459e-b3cb-66a67837d3b3",
        "outputId": "00534baa-05b3-4411-e394-9069bd9b0edd"
      },
      "outputs": [
        {
          "data": {
            "text/plain": [
              "1.001198322778645"
            ]
          },
          "execution_count": 64,
          "metadata": {},
          "output_type": "execute_result"
        }
      ],
      "source": [
        "test[\"Age\"].std()"
      ]
    },
    {
      "cell_type": "code",
      "execution_count": null,
      "id": "069bcbb0-741a-4ed0-95bf-1422be79aa2c",
      "metadata": {
        "id": "069bcbb0-741a-4ed0-95bf-1422be79aa2c",
        "outputId": "6b432f3d-9896-453b-bd50-9d9be7021965"
      },
      "outputs": [
        {
          "name": "stdout",
          "output_type": "stream",
          "text": [
            "14/14 [==============================] - 0s 1ms/step\n"
          ]
        }
      ],
      "source": [
        "X_Test = test[['Age', 'SibSp', 'Parch', 'Fare', 'Pclass_1', 'Pclass_2',\n",
        "       'Pclass_3', 'Sex_female', 'Sex_male', 'Embarked_C', 'Embarked_Q',\n",
        "       'Embarked_S']]\n",
        "\n",
        "\n",
        "\n",
        "test[\"SurvivedProb\"] = model.predict(X_Test)"
      ]
    },
    {
      "cell_type": "code",
      "execution_count": null,
      "id": "428677ba-f318-4a6f-8f7c-abc177f6d86c",
      "metadata": {
        "id": "428677ba-f318-4a6f-8f7c-abc177f6d86c",
        "outputId": "df222a7d-daf4-4418-be63-05f4b63320ac"
      },
      "outputs": [
        {
          "data": {
            "text/html": [
              "<div>\n",
              "<style scoped>\n",
              "    .dataframe tbody tr th:only-of-type {\n",
              "        vertical-align: middle;\n",
              "    }\n",
              "\n",
              "    .dataframe tbody tr th {\n",
              "        vertical-align: top;\n",
              "    }\n",
              "\n",
              "    .dataframe thead th {\n",
              "        text-align: right;\n",
              "    }\n",
              "</style>\n",
              "<table border=\"1\" class=\"dataframe\">\n",
              "  <thead>\n",
              "    <tr style=\"text-align: right;\">\n",
              "      <th></th>\n",
              "      <th>Age</th>\n",
              "      <th>SibSp</th>\n",
              "      <th>Parch</th>\n",
              "      <th>Fare</th>\n",
              "      <th>Pclass_1</th>\n",
              "      <th>Pclass_2</th>\n",
              "      <th>Pclass_3</th>\n",
              "      <th>Sex_female</th>\n",
              "      <th>Sex_male</th>\n",
              "      <th>Embarked_C</th>\n",
              "      <th>Embarked_Q</th>\n",
              "      <th>Embarked_S</th>\n",
              "      <th>PassengerId</th>\n",
              "      <th>SurvivedProb</th>\n",
              "    </tr>\n",
              "  </thead>\n",
              "  <tbody>\n",
              "    <tr>\n",
              "      <th>0</th>\n",
              "      <td>0.334993</td>\n",
              "      <td>-0.499470</td>\n",
              "      <td>-0.400248</td>\n",
              "      <td>-0.497413</td>\n",
              "      <td>0</td>\n",
              "      <td>0</td>\n",
              "      <td>1</td>\n",
              "      <td>0</td>\n",
              "      <td>1</td>\n",
              "      <td>0</td>\n",
              "      <td>1</td>\n",
              "      <td>0</td>\n",
              "      <td>892</td>\n",
              "      <td>0.081722</td>\n",
              "    </tr>\n",
              "    <tr>\n",
              "      <th>1</th>\n",
              "      <td>1.325530</td>\n",
              "      <td>0.616992</td>\n",
              "      <td>-0.400248</td>\n",
              "      <td>-0.512278</td>\n",
              "      <td>0</td>\n",
              "      <td>0</td>\n",
              "      <td>1</td>\n",
              "      <td>1</td>\n",
              "      <td>0</td>\n",
              "      <td>0</td>\n",
              "      <td>0</td>\n",
              "      <td>1</td>\n",
              "      <td>893</td>\n",
              "      <td>0.461784</td>\n",
              "    </tr>\n",
              "    <tr>\n",
              "      <th>2</th>\n",
              "      <td>2.514175</td>\n",
              "      <td>-0.499470</td>\n",
              "      <td>-0.400248</td>\n",
              "      <td>-0.464100</td>\n",
              "      <td>0</td>\n",
              "      <td>1</td>\n",
              "      <td>0</td>\n",
              "      <td>0</td>\n",
              "      <td>1</td>\n",
              "      <td>0</td>\n",
              "      <td>1</td>\n",
              "      <td>0</td>\n",
              "      <td>894</td>\n",
              "      <td>0.111869</td>\n",
              "    </tr>\n",
              "    <tr>\n",
              "      <th>3</th>\n",
              "      <td>-0.259330</td>\n",
              "      <td>-0.499470</td>\n",
              "      <td>-0.400248</td>\n",
              "      <td>-0.482475</td>\n",
              "      <td>0</td>\n",
              "      <td>0</td>\n",
              "      <td>1</td>\n",
              "      <td>0</td>\n",
              "      <td>1</td>\n",
              "      <td>0</td>\n",
              "      <td>0</td>\n",
              "      <td>1</td>\n",
              "      <td>895</td>\n",
              "      <td>0.140124</td>\n",
              "    </tr>\n",
              "    <tr>\n",
              "      <th>4</th>\n",
              "      <td>-0.655545</td>\n",
              "      <td>0.616992</td>\n",
              "      <td>0.619896</td>\n",
              "      <td>-0.417492</td>\n",
              "      <td>0</td>\n",
              "      <td>0</td>\n",
              "      <td>1</td>\n",
              "      <td>1</td>\n",
              "      <td>0</td>\n",
              "      <td>0</td>\n",
              "      <td>0</td>\n",
              "      <td>1</td>\n",
              "      <td>896</td>\n",
              "      <td>0.338020</td>\n",
              "    </tr>\n",
              "  </tbody>\n",
              "</table>\n",
              "</div>"
            ],
            "text/plain": [
              "        Age     SibSp     Parch      Fare  Pclass_1  Pclass_2  Pclass_3  \\\n",
              "0  0.334993 -0.499470 -0.400248 -0.497413         0         0         1   \n",
              "1  1.325530  0.616992 -0.400248 -0.512278         0         0         1   \n",
              "2  2.514175 -0.499470 -0.400248 -0.464100         0         1         0   \n",
              "3 -0.259330 -0.499470 -0.400248 -0.482475         0         0         1   \n",
              "4 -0.655545  0.616992  0.619896 -0.417492         0         0         1   \n",
              "\n",
              "   Sex_female  Sex_male  Embarked_C  Embarked_Q  Embarked_S  PassengerId  \\\n",
              "0           0         1           0           1           0          892   \n",
              "1           1         0           0           0           1          893   \n",
              "2           0         1           0           1           0          894   \n",
              "3           0         1           0           0           1          895   \n",
              "4           1         0           0           0           1          896   \n",
              "\n",
              "   SurvivedProb  \n",
              "0      0.081722  \n",
              "1      0.461784  \n",
              "2      0.111869  \n",
              "3      0.140124  \n",
              "4      0.338020  "
            ]
          },
          "execution_count": 66,
          "metadata": {},
          "output_type": "execute_result"
        }
      ],
      "source": [
        "test.head()"
      ]
    },
    {
      "cell_type": "code",
      "execution_count": null,
      "id": "4afb5954-63d3-4376-98e2-1f4be0ae44f7",
      "metadata": {
        "id": "4afb5954-63d3-4376-98e2-1f4be0ae44f7"
      },
      "outputs": [],
      "source": [
        "#Create yes or no for survival binary:\n",
        "\n",
        "test.loc[(test[\"SurvivedProb\"] >= .51, \"Survived\")] = 1\n",
        "test.loc[(test[\"SurvivedProb\"] < .51, \"Survived\")] = 0"
      ]
    },
    {
      "cell_type": "code",
      "execution_count": null,
      "id": "de30b7e2-ff94-4055-9540-14cfe34b875e",
      "metadata": {
        "id": "de30b7e2-ff94-4055-9540-14cfe34b875e",
        "outputId": "c67a4842-3c61-4ee9-bc44-038f0dbc898e"
      },
      "outputs": [
        {
          "data": {
            "text/html": [
              "<div>\n",
              "<style scoped>\n",
              "    .dataframe tbody tr th:only-of-type {\n",
              "        vertical-align: middle;\n",
              "    }\n",
              "\n",
              "    .dataframe tbody tr th {\n",
              "        vertical-align: top;\n",
              "    }\n",
              "\n",
              "    .dataframe thead th {\n",
              "        text-align: right;\n",
              "    }\n",
              "</style>\n",
              "<table border=\"1\" class=\"dataframe\">\n",
              "  <thead>\n",
              "    <tr style=\"text-align: right;\">\n",
              "      <th></th>\n",
              "      <th>Age</th>\n",
              "      <th>SibSp</th>\n",
              "      <th>Parch</th>\n",
              "      <th>Fare</th>\n",
              "      <th>Pclass_1</th>\n",
              "      <th>Pclass_2</th>\n",
              "      <th>Pclass_3</th>\n",
              "      <th>Sex_female</th>\n",
              "      <th>Sex_male</th>\n",
              "      <th>Embarked_C</th>\n",
              "      <th>Embarked_Q</th>\n",
              "      <th>Embarked_S</th>\n",
              "      <th>PassengerId</th>\n",
              "      <th>SurvivedProb</th>\n",
              "      <th>Survived</th>\n",
              "    </tr>\n",
              "  </thead>\n",
              "  <tbody>\n",
              "    <tr>\n",
              "      <th>0</th>\n",
              "      <td>0.334993</td>\n",
              "      <td>-0.499470</td>\n",
              "      <td>-0.400248</td>\n",
              "      <td>-0.497413</td>\n",
              "      <td>0</td>\n",
              "      <td>0</td>\n",
              "      <td>1</td>\n",
              "      <td>0</td>\n",
              "      <td>1</td>\n",
              "      <td>0</td>\n",
              "      <td>1</td>\n",
              "      <td>0</td>\n",
              "      <td>892</td>\n",
              "      <td>0.081722</td>\n",
              "      <td>0.0</td>\n",
              "    </tr>\n",
              "    <tr>\n",
              "      <th>1</th>\n",
              "      <td>1.325530</td>\n",
              "      <td>0.616992</td>\n",
              "      <td>-0.400248</td>\n",
              "      <td>-0.512278</td>\n",
              "      <td>0</td>\n",
              "      <td>0</td>\n",
              "      <td>1</td>\n",
              "      <td>1</td>\n",
              "      <td>0</td>\n",
              "      <td>0</td>\n",
              "      <td>0</td>\n",
              "      <td>1</td>\n",
              "      <td>893</td>\n",
              "      <td>0.461784</td>\n",
              "      <td>0.0</td>\n",
              "    </tr>\n",
              "    <tr>\n",
              "      <th>2</th>\n",
              "      <td>2.514175</td>\n",
              "      <td>-0.499470</td>\n",
              "      <td>-0.400248</td>\n",
              "      <td>-0.464100</td>\n",
              "      <td>0</td>\n",
              "      <td>1</td>\n",
              "      <td>0</td>\n",
              "      <td>0</td>\n",
              "      <td>1</td>\n",
              "      <td>0</td>\n",
              "      <td>1</td>\n",
              "      <td>0</td>\n",
              "      <td>894</td>\n",
              "      <td>0.111869</td>\n",
              "      <td>0.0</td>\n",
              "    </tr>\n",
              "    <tr>\n",
              "      <th>3</th>\n",
              "      <td>-0.259330</td>\n",
              "      <td>-0.499470</td>\n",
              "      <td>-0.400248</td>\n",
              "      <td>-0.482475</td>\n",
              "      <td>0</td>\n",
              "      <td>0</td>\n",
              "      <td>1</td>\n",
              "      <td>0</td>\n",
              "      <td>1</td>\n",
              "      <td>0</td>\n",
              "      <td>0</td>\n",
              "      <td>1</td>\n",
              "      <td>895</td>\n",
              "      <td>0.140124</td>\n",
              "      <td>0.0</td>\n",
              "    </tr>\n",
              "    <tr>\n",
              "      <th>4</th>\n",
              "      <td>-0.655545</td>\n",
              "      <td>0.616992</td>\n",
              "      <td>0.619896</td>\n",
              "      <td>-0.417492</td>\n",
              "      <td>0</td>\n",
              "      <td>0</td>\n",
              "      <td>1</td>\n",
              "      <td>1</td>\n",
              "      <td>0</td>\n",
              "      <td>0</td>\n",
              "      <td>0</td>\n",
              "      <td>1</td>\n",
              "      <td>896</td>\n",
              "      <td>0.338020</td>\n",
              "      <td>0.0</td>\n",
              "    </tr>\n",
              "  </tbody>\n",
              "</table>\n",
              "</div>"
            ],
            "text/plain": [
              "        Age     SibSp     Parch      Fare  Pclass_1  Pclass_2  Pclass_3  \\\n",
              "0  0.334993 -0.499470 -0.400248 -0.497413         0         0         1   \n",
              "1  1.325530  0.616992 -0.400248 -0.512278         0         0         1   \n",
              "2  2.514175 -0.499470 -0.400248 -0.464100         0         1         0   \n",
              "3 -0.259330 -0.499470 -0.400248 -0.482475         0         0         1   \n",
              "4 -0.655545  0.616992  0.619896 -0.417492         0         0         1   \n",
              "\n",
              "   Sex_female  Sex_male  Embarked_C  Embarked_Q  Embarked_S  PassengerId  \\\n",
              "0           0         1           0           1           0          892   \n",
              "1           1         0           0           0           1          893   \n",
              "2           0         1           0           1           0          894   \n",
              "3           0         1           0           0           1          895   \n",
              "4           1         0           0           0           1          896   \n",
              "\n",
              "   SurvivedProb  Survived  \n",
              "0      0.081722       0.0  \n",
              "1      0.461784       0.0  \n",
              "2      0.111869       0.0  \n",
              "3      0.140124       0.0  \n",
              "4      0.338020       0.0  "
            ]
          },
          "execution_count": 68,
          "metadata": {},
          "output_type": "execute_result"
        }
      ],
      "source": [
        "test.head()"
      ]
    },
    {
      "cell_type": "code",
      "execution_count": null,
      "id": "0b94df16-dd5f-4e7e-9bad-4e2e8534c259",
      "metadata": {
        "id": "0b94df16-dd5f-4e7e-9bad-4e2e8534c259",
        "outputId": "442db805-c5af-45dd-ed6c-3fe26a15611a"
      },
      "outputs": [
        {
          "data": {
            "text/html": [
              "<div>\n",
              "<style scoped>\n",
              "    .dataframe tbody tr th:only-of-type {\n",
              "        vertical-align: middle;\n",
              "    }\n",
              "\n",
              "    .dataframe tbody tr th {\n",
              "        vertical-align: top;\n",
              "    }\n",
              "\n",
              "    .dataframe thead th {\n",
              "        text-align: right;\n",
              "    }\n",
              "</style>\n",
              "<table border=\"1\" class=\"dataframe\">\n",
              "  <thead>\n",
              "    <tr style=\"text-align: right;\">\n",
              "      <th></th>\n",
              "      <th>Age</th>\n",
              "      <th>SibSp</th>\n",
              "      <th>Parch</th>\n",
              "      <th>Fare</th>\n",
              "      <th>Pclass_1</th>\n",
              "      <th>Pclass_2</th>\n",
              "      <th>Pclass_3</th>\n",
              "      <th>Sex_female</th>\n",
              "      <th>Sex_male</th>\n",
              "      <th>Embarked_C</th>\n",
              "      <th>Embarked_Q</th>\n",
              "      <th>Embarked_S</th>\n",
              "      <th>PassengerId</th>\n",
              "      <th>SurvivedProb</th>\n",
              "      <th>Survived</th>\n",
              "    </tr>\n",
              "  </thead>\n",
              "  <tbody>\n",
              "    <tr>\n",
              "      <th>6</th>\n",
              "      <td>-0.021601</td>\n",
              "      <td>-0.499470</td>\n",
              "      <td>-0.400248</td>\n",
              "      <td>-0.500999</td>\n",
              "      <td>0</td>\n",
              "      <td>0</td>\n",
              "      <td>1</td>\n",
              "      <td>1</td>\n",
              "      <td>0</td>\n",
              "      <td>0</td>\n",
              "      <td>1</td>\n",
              "      <td>0</td>\n",
              "      <td>898</td>\n",
              "      <td>0.663640</td>\n",
              "      <td>1.0</td>\n",
              "    </tr>\n",
              "    <tr>\n",
              "      <th>8</th>\n",
              "      <td>-0.972517</td>\n",
              "      <td>-0.499470</td>\n",
              "      <td>-0.400248</td>\n",
              "      <td>-0.508169</td>\n",
              "      <td>0</td>\n",
              "      <td>0</td>\n",
              "      <td>1</td>\n",
              "      <td>1</td>\n",
              "      <td>0</td>\n",
              "      <td>1</td>\n",
              "      <td>0</td>\n",
              "      <td>0</td>\n",
              "      <td>900</td>\n",
              "      <td>0.525601</td>\n",
              "      <td>1.0</td>\n",
              "    </tr>\n",
              "    <tr>\n",
              "      <th>12</th>\n",
              "      <td>-0.576302</td>\n",
              "      <td>0.616992</td>\n",
              "      <td>-0.400248</td>\n",
              "      <td>0.836992</td>\n",
              "      <td>1</td>\n",
              "      <td>0</td>\n",
              "      <td>0</td>\n",
              "      <td>1</td>\n",
              "      <td>0</td>\n",
              "      <td>0</td>\n",
              "      <td>0</td>\n",
              "      <td>1</td>\n",
              "      <td>904</td>\n",
              "      <td>0.985833</td>\n",
              "      <td>1.0</td>\n",
              "    </tr>\n",
              "    <tr>\n",
              "      <th>14</th>\n",
              "      <td>1.325530</td>\n",
              "      <td>0.616992</td>\n",
              "      <td>-0.400248</td>\n",
              "      <td>0.458892</td>\n",
              "      <td>1</td>\n",
              "      <td>0</td>\n",
              "      <td>0</td>\n",
              "      <td>1</td>\n",
              "      <td>0</td>\n",
              "      <td>0</td>\n",
              "      <td>0</td>\n",
              "      <td>1</td>\n",
              "      <td>906</td>\n",
              "      <td>0.964546</td>\n",
              "      <td>1.0</td>\n",
              "    </tr>\n",
              "    <tr>\n",
              "      <th>15</th>\n",
              "      <td>-0.497059</td>\n",
              "      <td>0.616992</td>\n",
              "      <td>-0.400248</td>\n",
              "      <td>-0.140826</td>\n",
              "      <td>0</td>\n",
              "      <td>1</td>\n",
              "      <td>0</td>\n",
              "      <td>1</td>\n",
              "      <td>0</td>\n",
              "      <td>1</td>\n",
              "      <td>0</td>\n",
              "      <td>0</td>\n",
              "      <td>907</td>\n",
              "      <td>0.919122</td>\n",
              "      <td>1.0</td>\n",
              "    </tr>\n",
              "  </tbody>\n",
              "</table>\n",
              "</div>"
            ],
            "text/plain": [
              "         Age     SibSp     Parch      Fare  Pclass_1  Pclass_2  Pclass_3  \\\n",
              "6  -0.021601 -0.499470 -0.400248 -0.500999         0         0         1   \n",
              "8  -0.972517 -0.499470 -0.400248 -0.508169         0         0         1   \n",
              "12 -0.576302  0.616992 -0.400248  0.836992         1         0         0   \n",
              "14  1.325530  0.616992 -0.400248  0.458892         1         0         0   \n",
              "15 -0.497059  0.616992 -0.400248 -0.140826         0         1         0   \n",
              "\n",
              "    Sex_female  Sex_male  Embarked_C  Embarked_Q  Embarked_S  PassengerId  \\\n",
              "6            1         0           0           1           0          898   \n",
              "8            1         0           1           0           0          900   \n",
              "12           1         0           0           0           1          904   \n",
              "14           1         0           0           0           1          906   \n",
              "15           1         0           1           0           0          907   \n",
              "\n",
              "    SurvivedProb  Survived  \n",
              "6       0.663640       1.0  \n",
              "8       0.525601       1.0  \n",
              "12      0.985833       1.0  \n",
              "14      0.964546       1.0  \n",
              "15      0.919122       1.0  "
            ]
          },
          "execution_count": 69,
          "metadata": {},
          "output_type": "execute_result"
        }
      ],
      "source": [
        "#Did it work? Let's check:\n",
        "test.loc[(test[\"Survived\"] == 1)].head()"
      ]
    },
    {
      "cell_type": "code",
      "execution_count": null,
      "id": "3bf437f2-76fe-4760-90f9-2448ff87a6d0",
      "metadata": {
        "id": "3bf437f2-76fe-4760-90f9-2448ff87a6d0"
      },
      "outputs": [],
      "source": [
        "#Putting together submission df\n",
        "\n",
        "#for submission df we need to have only passenger ID and then survived\n",
        "\n",
        "output_test_df = test[[\"PassengerId\", \"Survived\"]]"
      ]
    },
    {
      "cell_type": "code",
      "execution_count": null,
      "id": "d4a14ebf-dfad-4877-b951-06bfffd11d84",
      "metadata": {
        "id": "d4a14ebf-dfad-4877-b951-06bfffd11d84",
        "outputId": "6d2e519f-52b9-4e39-b3e4-014b55c93c4d"
      },
      "outputs": [
        {
          "data": {
            "text/html": [
              "<div>\n",
              "<style scoped>\n",
              "    .dataframe tbody tr th:only-of-type {\n",
              "        vertical-align: middle;\n",
              "    }\n",
              "\n",
              "    .dataframe tbody tr th {\n",
              "        vertical-align: top;\n",
              "    }\n",
              "\n",
              "    .dataframe thead th {\n",
              "        text-align: right;\n",
              "    }\n",
              "</style>\n",
              "<table border=\"1\" class=\"dataframe\">\n",
              "  <thead>\n",
              "    <tr style=\"text-align: right;\">\n",
              "      <th></th>\n",
              "      <th>PassengerId</th>\n",
              "      <th>Survived</th>\n",
              "    </tr>\n",
              "  </thead>\n",
              "  <tbody>\n",
              "    <tr>\n",
              "      <th>0</th>\n",
              "      <td>892</td>\n",
              "      <td>0.0</td>\n",
              "    </tr>\n",
              "    <tr>\n",
              "      <th>1</th>\n",
              "      <td>893</td>\n",
              "      <td>0.0</td>\n",
              "    </tr>\n",
              "    <tr>\n",
              "      <th>2</th>\n",
              "      <td>894</td>\n",
              "      <td>0.0</td>\n",
              "    </tr>\n",
              "    <tr>\n",
              "      <th>3</th>\n",
              "      <td>895</td>\n",
              "      <td>0.0</td>\n",
              "    </tr>\n",
              "    <tr>\n",
              "      <th>4</th>\n",
              "      <td>896</td>\n",
              "      <td>0.0</td>\n",
              "    </tr>\n",
              "  </tbody>\n",
              "</table>\n",
              "</div>"
            ],
            "text/plain": [
              "   PassengerId  Survived\n",
              "0          892       0.0\n",
              "1          893       0.0\n",
              "2          894       0.0\n",
              "3          895       0.0\n",
              "4          896       0.0"
            ]
          },
          "execution_count": 80,
          "metadata": {},
          "output_type": "execute_result"
        }
      ],
      "source": [
        "output_test_df.head()"
      ]
    },
    {
      "cell_type": "code",
      "execution_count": null,
      "id": "e22440bb-3662-47e7-ab0a-0aa36b3e6643",
      "metadata": {
        "id": "e22440bb-3662-47e7-ab0a-0aa36b3e6643"
      },
      "outputs": [],
      "source": [
        "# output_test_df = output_test_df.set_index(\"PassengerId\")"
      ]
    },
    {
      "cell_type": "code",
      "execution_count": null,
      "id": "6db66c9f-a713-43b0-a302-2641c6a973fe",
      "metadata": {
        "id": "6db66c9f-a713-43b0-a302-2641c6a973fe"
      },
      "outputs": [],
      "source": [
        "output_test_df.to_csv(\"retest.csv\", index=False, sep=',')"
      ]
    },
    {
      "cell_type": "code",
      "execution_count": null,
      "id": "6422a871-6a90-4af4-a2ac-7e5454a509d2",
      "metadata": {
        "id": "6422a871-6a90-4af4-a2ac-7e5454a509d2"
      },
      "outputs": [],
      "source": []
    }
  ],
  "metadata": {
    "kernelspec": {
      "display_name": "Python 3 (ipykernel)",
      "language": "python",
      "name": "python3"
    },
    "language_info": {
      "codemirror_mode": {
        "name": "ipython",
        "version": 3
      },
      "file_extension": ".py",
      "mimetype": "text/x-python",
      "name": "python",
      "nbconvert_exporter": "python",
      "pygments_lexer": "ipython3",
      "version": "3.7.13"
    },
    "colab": {
      "provenance": []
    }
  },
  "nbformat": 4,
  "nbformat_minor": 5
}